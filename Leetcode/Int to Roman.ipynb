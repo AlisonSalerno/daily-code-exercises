{
 "cells": [
  {
   "cell_type": "markdown",
   "metadata": {},
   "source": [
    "Given an integer, convert it to a roman numeral. Input is guaranteed to be within the range from 1 to 3999."
   ]
  },
  {
   "cell_type": "code",
   "execution_count": 4,
   "metadata": {},
   "outputs": [],
   "source": [
    "def intToRoman(self,num):\n",
    "    roman = {1000:'M',900:'CM', 500: 'D', 400:'CD',100:'C',90: 'XC', 50: 'L', 40:'XL',10:'X',9: 'IX', 5: 'V', 4:'IV', 1:'I'}\n",
    "    numbers = list(roman.keys())\n",
    "    result = []\n",
    "    \n",
    "    for x in numbers:\n",
    "        mult = num // x\n",
    "        result.append(roman[x]*mult)\n",
    "        num = num % x\n",
    "    return ''.join(result)"
   ]
  },
  {
   "cell_type": "code",
   "execution_count": null,
   "metadata": {},
   "outputs": [],
   "source": []
  }
 ],
 "metadata": {
  "kernelspec": {
   "display_name": "Python 3",
   "language": "python",
   "name": "python3"
  },
  "language_info": {
   "codemirror_mode": {
    "name": "ipython",
    "version": 3
   },
   "file_extension": ".py",
   "mimetype": "text/x-python",
   "name": "python",
   "nbconvert_exporter": "python",
   "pygments_lexer": "ipython3",
   "version": "3.7.4"
  }
 },
 "nbformat": 4,
 "nbformat_minor": 2
}
