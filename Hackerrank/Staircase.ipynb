{
 "cells": [
  {
   "cell_type": "markdown",
   "metadata": {},
   "source": [
    "Consider a staircase of size n=4 :\n",
    "<pre>\n",
    "   #\n",
    "  ##\n",
    " ###\n",
    "####\n",
    "</pre>\n",
    "\n",
    "Observe that its base and height are both equal to n , and the image is drawn using # symbols and spaces. The last line is not preceded by any spaces.\n",
    "\n",
    "Write a program that prints a staircase of size n .\n",
    "\n",
    "#### Function Description\n",
    "\n",
    "Complete the staircase function in the editor below. It should print a staircase as described above.\n",
    "\n",
    "staircase has the following parameter(s):\n",
    "\n",
    "- n: an integer"
   ]
  },
  {
   "cell_type": "code",
   "execution_count": 40,
   "metadata": {},
   "outputs": [],
   "source": [
    "n = 6\n",
    "def staircase(n):\n",
    "    steps = 1\n",
    "    spaces = (n-1)\n",
    "    while steps <= n and spaces < n:\n",
    "        print ((' ' * spaces) + (steps * '#'))\n",
    "        steps += 1\n",
    "        spaces -= 1\n",
    "    "
   ]
  },
  {
   "cell_type": "code",
   "execution_count": 41,
   "metadata": {},
   "outputs": [
    {
     "name": "stdout",
     "output_type": "stream",
     "text": [
      "     #\n",
      "    ##\n",
      "   ###\n",
      "  ####\n",
      " #####\n",
      "######\n"
     ]
    }
   ],
   "source": [
    "staircase(n)"
   ]
  },
  {
   "cell_type": "code",
   "execution_count": null,
   "metadata": {},
   "outputs": [],
   "source": []
  }
 ],
 "metadata": {
  "kernelspec": {
   "display_name": "Python 3",
   "language": "python",
   "name": "python3"
  },
  "language_info": {
   "codemirror_mode": {
    "name": "ipython",
    "version": 3
   },
   "file_extension": ".py",
   "mimetype": "text/x-python",
   "name": "python",
   "nbconvert_exporter": "python",
   "pygments_lexer": "ipython3",
   "version": "3.7.4"
  }
 },
 "nbformat": 4,
 "nbformat_minor": 2
}
