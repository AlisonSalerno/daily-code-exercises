{
 "cells": [
  {
   "cell_type": "markdown",
   "metadata": {},
   "source": [
    "A video player plays a game in which the character competes in a hurdle race. Hurdles are of varying heights, and the characters have a maximum height they can jump. There is a magic potion they can take that will increase their maximum jump height by **1** unit for each dose. How many doses of the potion must the character take to be able to jump all of the hurdles. If the character can already clear all of the hurdles, return **0** .\n",
    "\n",
    "\n",
    "\n",
    "#### Function Description\n",
    "\n",
    "Complete the hurdleRace function in the editor below.\n",
    "\n",
    "hurdleRace has the following parameter(s):\n",
    "\n",
    "int k: the height the character can jump naturally\n",
    "int height[n]: the heights of each hurdle"
   ]
  },
  {
   "cell_type": "code",
   "execution_count": 1,
   "metadata": {},
   "outputs": [],
   "source": [
    "def hurdleRace(k,height):\n",
    "    if k >= max(height):\n",
    "        return 0\n",
    "    else:\n",
    "        return max(height) - k\n",
    "    "
   ]
  },
  {
   "cell_type": "code",
   "execution_count": null,
   "metadata": {},
   "outputs": [],
   "source": []
  }
 ],
 "metadata": {
  "kernelspec": {
   "display_name": "Python 3",
   "language": "python",
   "name": "python3"
  },
  "language_info": {
   "codemirror_mode": {
    "name": "ipython",
    "version": 3
   },
   "file_extension": ".py",
   "mimetype": "text/x-python",
   "name": "python",
   "nbconvert_exporter": "python",
   "pygments_lexer": "ipython3",
   "version": "3.7.4"
  }
 },
 "nbformat": 4,
 "nbformat_minor": 2
}
