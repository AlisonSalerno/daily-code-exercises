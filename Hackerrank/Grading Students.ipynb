{
 "cells": [
  {
   "cell_type": "markdown",
   "metadata": {},
   "source": [
    "HackerLand University has the following grading policy:\n",
    "\n",
    "Every student receives a grade in the inclusive range from 0   to 100.\n",
    "Any grade  less than 40 is a failing grade.\n",
    "Sam is a professor at the university and likes to round each student's grade  according to these rules:\n",
    "\n",
    "- If the difference between the grade  and the next multiple of 5 is less than 3 , round  up to the next multiple of 5 .\n",
    "- If the value of the grade  is less than 38 , no rounding occurs as the result will still be a failing grade.\n",
    "For example, grade = 84,  will be rounded to 85  but grade = 29  will not be rounded because the rounding would result in a number that is less than 40 .\n",
    "\n",
    "Given the initial value of grade  for each of Sam's n  students, write code to automate the rounding process.\n",
    "\n",
    "#### Function Description\n",
    "\n",
    "Complete the function gradingStudents in the editor below. It should return an integer array consisting of rounded grades.\n",
    "\n",
    "gradingStudents has the following parameter(s):\n",
    "\n",
    "grades: an array of integers representing grades before rounding"
   ]
  },
  {
   "cell_type": "code",
   "execution_count": 7,
   "metadata": {},
   "outputs": [
    {
     "data": {
      "text/plain": [
       "True"
      ]
     },
     "execution_count": 7,
     "metadata": {},
     "output_type": "execute_result"
    }
   ],
   "source": [
    "n = 4\n",
    "\n",
    "grades = [73,67,38,33]\n",
    "(grades[0]+2)%5==0"
   ]
  },
  {
   "cell_type": "code",
   "execution_count": 8,
   "metadata": {},
   "outputs": [],
   "source": [
    "def gradingStudents(grades):\n",
    "    # Write your code here\n",
    "    final_grades = []\n",
    "    for grade in grades:\n",
    "        if grade >= 38 and (grade + 1)%5==0: \n",
    "            final_grades.append(grade+1)\n",
    "        elif grade >= 38 and (grade + 2)%5==0:\n",
    "            final_grades.append(grade+2)\n",
    "        else: \n",
    "            final_grades.append(grade)\n",
    "    return final_grades\n",
    "    "
   ]
  },
  {
   "cell_type": "code",
   "execution_count": 9,
   "metadata": {},
   "outputs": [
    {
     "data": {
      "text/plain": [
       "[75, 67, 40, 33]"
      ]
     },
     "execution_count": 9,
     "metadata": {},
     "output_type": "execute_result"
    }
   ],
   "source": [
    "gradingStudents(grades)"
   ]
  },
  {
   "cell_type": "code",
   "execution_count": null,
   "metadata": {},
   "outputs": [],
   "source": []
  }
 ],
 "metadata": {
  "kernelspec": {
   "display_name": "Python 3",
   "language": "python",
   "name": "python3"
  },
  "language_info": {
   "codemirror_mode": {
    "name": "ipython",
    "version": 3
   },
   "file_extension": ".py",
   "mimetype": "text/x-python",
   "name": "python",
   "nbconvert_exporter": "python",
   "pygments_lexer": "ipython3",
   "version": "3.7.4"
  }
 },
 "nbformat": 4,
 "nbformat_minor": 2
}
