{
 "cells": [
  {
   "cell_type": "markdown",
   "metadata": {},
   "source": [
    "An integer d is a divisor of an integer n if the remainder of n \\ d = 0 .\n",
    "\n",
    "Given an integer, for each digit that makes up the integer determine whether it is a divisor. Count the number of divisors occurring within the integer.\n",
    "\n",
    "Note: Each digit is considered to be unique, so each occurrence of the same digit should be counted (e.g. for n = 111, 1 is a divisor of 111 each time it occurs so the answer is 3 ).\n",
    "\n",
    "Function Description\n",
    "\n",
    "Complete the findDigits function in the editor below. It should return an integer representing the number of digits of d that are divisors of d .\n",
    "\n",
    "findDigits has the following parameter(s):\n",
    "\n",
    "n: an integer to analyze"
   ]
  },
  {
   "cell_type": "code",
   "execution_count": 10,
   "metadata": {},
   "outputs": [
    {
     "data": {
      "text/plain": [
       "[1, 0, 1, 2]"
      ]
     },
     "execution_count": 10,
     "metadata": {},
     "output_type": "execute_result"
    }
   ],
   "source": [
    "n = 1012\n",
    "[int(x) for x in str(n)]"
   ]
  },
  {
   "cell_type": "code",
   "execution_count": 9,
   "metadata": {},
   "outputs": [],
   "source": [
    "def findDigits(n):\n",
    "    digit_list = [int(x) for x in str(n)]\n",
    "    count = 0\n",
    "    for digit in digit_list:\n",
    "        if digit is not 0 and n % digit == 0:\n",
    "            count += 1\n",
    "    return count\n",
    "        "
   ]
  },
  {
   "cell_type": "code",
   "execution_count": 11,
   "metadata": {},
   "outputs": [
    {
     "data": {
      "text/plain": [
       "3"
      ]
     },
     "execution_count": 11,
     "metadata": {},
     "output_type": "execute_result"
    }
   ],
   "source": [
    "findDigits(n)"
   ]
  },
  {
   "cell_type": "code",
   "execution_count": null,
   "metadata": {},
   "outputs": [],
   "source": []
  }
 ],
 "metadata": {
  "kernelspec": {
   "display_name": "Python 3",
   "language": "python",
   "name": "python3"
  },
  "language_info": {
   "codemirror_mode": {
    "name": "ipython",
    "version": 3
   },
   "file_extension": ".py",
   "mimetype": "text/x-python",
   "name": "python",
   "nbconvert_exporter": "python",
   "pygments_lexer": "ipython3",
   "version": "3.7.4"
  }
 },
 "nbformat": 4,
 "nbformat_minor": 2
}
