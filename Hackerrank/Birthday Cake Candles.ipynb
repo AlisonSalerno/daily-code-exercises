{
 "cells": [
  {
   "cell_type": "markdown",
   "metadata": {},
   "source": [
    "You are in charge of the cake for your niece's birthday and have decided the cake will have one candle for each year of her total age. When she blows out the candles, she’ll only be able to blow out the tallest ones. Your task is to find out how many candles she can successfully blow out.\n",
    "\n",
    "For example, if your niece is turning 4 years old, and the cake will have 4 candles of height 4,4 1,3, she will be able to blow out 2 candles successfully, since the tallest candles are of height 4 and there are 2 such candles.\n",
    "\n",
    "#### Function Description\n",
    "\n",
    "Complete the function birthdayCakeCandles in the editor below. It must return an integer representing the number of candles she can blow out.\n",
    "\n",
    "birthdayCakeCandles has the following parameter(s):\n",
    "\n",
    "ar: an array of integers representing candle heights"
   ]
  },
  {
   "cell_type": "code",
   "execution_count": 1,
   "metadata": {},
   "outputs": [
    {
     "data": {
      "text/plain": [
       "3"
      ]
     },
     "execution_count": 1,
     "metadata": {},
     "output_type": "execute_result"
    }
   ],
   "source": [
    "candles = [3,2,1,3]\n",
    "max(candles)"
   ]
  },
  {
   "cell_type": "code",
   "execution_count": 2,
   "metadata": {},
   "outputs": [],
   "source": [
    "def birthdayCakeCandles(ar):\n",
    "    tallest = max(list(ar))\n",
    "    return list(ar).count(tallest)\n",
    "    "
   ]
  },
  {
   "cell_type": "code",
   "execution_count": 3,
   "metadata": {},
   "outputs": [
    {
     "data": {
      "text/plain": [
       "2"
      ]
     },
     "execution_count": 3,
     "metadata": {},
     "output_type": "execute_result"
    }
   ],
   "source": [
    "birthdayCakeCandles(candles)"
   ]
  },
  {
   "cell_type": "code",
   "execution_count": null,
   "metadata": {},
   "outputs": [],
   "source": []
  }
 ],
 "metadata": {
  "kernelspec": {
   "display_name": "Python 3",
   "language": "python",
   "name": "python3"
  },
  "language_info": {
   "codemirror_mode": {
    "name": "ipython",
    "version": 3
   },
   "file_extension": ".py",
   "mimetype": "text/x-python",
   "name": "python",
   "nbconvert_exporter": "python",
   "pygments_lexer": "ipython3",
   "version": "3.7.4"
  }
 },
 "nbformat": 4,
 "nbformat_minor": 2
}
