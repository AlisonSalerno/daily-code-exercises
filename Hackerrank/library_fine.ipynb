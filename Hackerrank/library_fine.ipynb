{
 "cells": [
  {
   "cell_type": "markdown",
   "metadata": {},
   "source": [
    "Your local library needs your help! Given the expected and actual return dates for a library book, create a program that calculates the fine (if any). The fee structure is as follows:\n",
    "\n",
    "1. If the book is returned on or before the expected return date, no fine will be charged (i.e.: fine = 0).\n",
    "2. If the book is returned after the expected return day but still within the same calendar month and year as the expected return date, fine = 15 Hackos x (the number of days late).\n",
    "3. If the book is returned after the expected return month but still within the same calendar year as the expected return date, the fine = 500 Hackos x (the number of months late).\n",
    "4. If the book is returned after the calendar year in which it was expected, there is a fixed fine of 10,000 Hackos .\n",
    "\n",
    "\n",
    "Charges are based only on the least precise measure of lateness. For example, whether a book is due January 1, 2017 or December 31, 2017, if it is returned January 1, 2018, that is a year late and the fine would be 10,000 Hackos.\n",
    "\n",
    "#### Function Description\n",
    "\n",
    "Complete the libraryFine function in the editor below. It must return an integer representing the fine due.\n",
    "\n",
    "libraryFine has the following parameter(s):\n",
    "\n",
    "d1, m1, y1: returned date day, month and year\n",
    "d2, m2, y2: due date day, month and year\n"
   ]
  },
  {
   "cell_type": "code",
   "execution_count": 22,
   "metadata": {},
   "outputs": [],
   "source": [
    "d1 = 28 \n",
    "m1 = 2\n",
    "y1 = 2015\n",
    "\n",
    "d2 = 15\n",
    "m2 = 4\n",
    "y2 = 2015"
   ]
  },
  {
   "cell_type": "code",
   "execution_count": 26,
   "metadata": {},
   "outputs": [],
   "source": [
    "def libraryFine(d1,m1,y1,d2,m2,y2):\n",
    "    if y1 < y2: \n",
    "        return 0\n",
    "    elif (y1 == y2 and m1 <= m2 and d1 <= d2) or (y1 == y2 and m1 < m2):\n",
    "        return 0\n",
    "    elif y1 == y2 and m1 == m2 and d1 > d2:\n",
    "        return 15 * (d1 - d2)\n",
    "    elif y1 == y2 and m1 > m2:\n",
    "        return 500 * (m1 - m2)\n",
    "    else: \n",
    "        return 10000"
   ]
  },
  {
   "cell_type": "code",
   "execution_count": 27,
   "metadata": {},
   "outputs": [
    {
     "data": {
      "text/plain": [
       "0"
      ]
     },
     "execution_count": 27,
     "metadata": {},
     "output_type": "execute_result"
    }
   ],
   "source": [
    "libraryFine(d1,m1,y1,d2,m2,y2)"
   ]
  },
  {
   "cell_type": "code",
   "execution_count": null,
   "metadata": {},
   "outputs": [],
   "source": []
  }
 ],
 "metadata": {
  "kernelspec": {
   "display_name": "Python 3",
   "language": "python",
   "name": "python3"
  },
  "language_info": {
   "codemirror_mode": {
    "name": "ipython",
    "version": 3
   },
   "file_extension": ".py",
   "mimetype": "text/x-python",
   "name": "python",
   "nbconvert_exporter": "python",
   "pygments_lexer": "ipython3",
   "version": "3.7.4"
  }
 },
 "nbformat": 4,
 "nbformat_minor": 2
}
