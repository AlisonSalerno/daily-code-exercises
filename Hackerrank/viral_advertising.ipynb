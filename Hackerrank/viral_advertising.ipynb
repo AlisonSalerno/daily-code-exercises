{
 "cells": [
  {
   "cell_type": "markdown",
   "metadata": {},
   "source": [
    "HackerLand Enterprise is adopting a new viral advertising strategy. When they launch a new product, they advertise it to exactly 5 people on social media.\n",
    "\n",
    "On the first day, half of those 5 people (i.e., 2 ) like the advertisement and each shares it with 3 of their friends. At the beginning of the second day, 6 people receive the advertisement.\n",
    "\n",
    "Each day, half of the recipients like the advertisement and will share it with 3 friends on the following day. Assuming nobody receives the advertisement twice, determine how many people have liked the ad by the end of a given day, beginning with launch day as day 1 .\n",
    "\n",
    "For example, assume you want to know how many have liked the ad by the end of the  day.\n",
    "\n",
    "#### Function Description\n",
    "\n",
    "Complete the viralAdvertising function in the editor below. It should return the cumulative number of people who have liked the ad at a given time.\n",
    "\n",
    "viralAdvertising has the following parameter(s):\n",
    "\n",
    "n: the integer number of days\n",
    "\n",
    "#### Input Format\n",
    "\n",
    "A single integer, , denoting a number of days."
   ]
  },
  {
   "cell_type": "code",
   "execution_count": 14,
   "metadata": {},
   "outputs": [],
   "source": [
    "def viralAdvertising(n):\n",
    "    total_liked = 0\n",
    "    current_count = 0\n",
    "    start = 5\n",
    "    day = 1\n",
    "    while day <= n:\n",
    "        current_count = start//2\n",
    "        total_liked += current_count\n",
    "        start = current_count * 3\n",
    "        day += 1\n",
    "    return total_liked"
   ]
  },
  {
   "cell_type": "code",
   "execution_count": 15,
   "metadata": {},
   "outputs": [
    {
     "data": {
      "text/plain": [
       "9"
      ]
     },
     "execution_count": 15,
     "metadata": {},
     "output_type": "execute_result"
    }
   ],
   "source": [
    "viralAdvertising(3)"
   ]
  }
 ],
 "metadata": {
  "kernelspec": {
   "display_name": "Python 3",
   "language": "python",
   "name": "python3"
  },
  "language_info": {
   "codemirror_mode": {
    "name": "ipython",
    "version": 3
   },
   "file_extension": ".py",
   "mimetype": "text/x-python",
   "name": "python",
   "nbconvert_exporter": "python",
   "pygments_lexer": "ipython3",
   "version": "3.7.4"
  }
 },
 "nbformat": 4,
 "nbformat_minor": 2
}
