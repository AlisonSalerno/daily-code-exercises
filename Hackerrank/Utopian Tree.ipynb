{
 "cells": [
  {
   "cell_type": "markdown",
   "metadata": {},
   "source": [
    "The Utopian Tree goes through 2 cycles of growth every year. Each spring, it doubles in height. Each summer, its height increases by 1 meter.\n",
    "\n",
    "A Utopian Tree sapling with a height of 1 meter is planted at the onset of spring. How tall will the tree be after  growth cycles?\n",
    "\n",
    "For example, if the number of growth cycles is n = 5 , the calculations are as follows:\n",
    "\n",
    "#### Function Description\n",
    "\n",
    "Complete the utopianTree function in the editor below.\n",
    "\n",
    "utopianTree has the following parameter(s):\n",
    "\n",
    "int n: the number of growth cycles to simulate\n",
    "\n",
    "#### Returns\n",
    "\n",
    "int: the height of the tree after the given number of cycles"
   ]
  },
  {
   "cell_type": "code",
   "execution_count": 3,
   "metadata": {},
   "outputs": [],
   "source": [
    "def utopianTree(n):\n",
    "    height = 1\n",
    "    for cycle in range (0,n+1):\n",
    "        if cycle == 0: \n",
    "            height = height \n",
    "        elif cycle % 2 == 0:\n",
    "            height += 1\n",
    "        elif cycle % 2 != 0:\n",
    "            height = height * 2\n",
    "    return height\n",
    "            "
   ]
  },
  {
   "cell_type": "code",
   "execution_count": null,
   "metadata": {},
   "outputs": [],
   "source": []
  }
 ],
 "metadata": {
  "kernelspec": {
   "display_name": "Python 3",
   "language": "python",
   "name": "python3"
  },
  "language_info": {
   "codemirror_mode": {
    "name": "ipython",
    "version": 3
   },
   "file_extension": ".py",
   "mimetype": "text/x-python",
   "name": "python",
   "nbconvert_exporter": "python",
   "pygments_lexer": "ipython3",
   "version": "3.7.4"
  }
 },
 "nbformat": 4,
 "nbformat_minor": 2
}
