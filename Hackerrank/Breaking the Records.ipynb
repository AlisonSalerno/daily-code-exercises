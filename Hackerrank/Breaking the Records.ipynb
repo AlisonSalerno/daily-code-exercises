{
 "cells": [
  {
   "cell_type": "markdown",
   "metadata": {},
   "source": [
    "#### Function Description\n",
    "\n",
    "Complete the breakingRecords function in the editor below. It must return an integer array containing the numbers of times she broke her records. Index  is for breaking most points records, and index  is for breaking least points records.\n",
    "\n",
    "breakingRecords has the following parameter(s):\n",
    "\n",
    "scores: an array of integers\n",
    "#### Input Format\n",
    "\n",
    "The first line contains an integer , the number of games.\n",
    "The second line contains  space-separated integers describing the respective values of ."
   ]
  },
  {
   "cell_type": "code",
   "execution_count": 24,
   "metadata": {},
   "outputs": [
    {
     "data": {
      "text/plain": [
       "{3, 4, 5, 10, 21, 24, 28, 35, 36, 42}"
      ]
     },
     "execution_count": 24,
     "metadata": {},
     "output_type": "execute_result"
    }
   ],
   "source": [
    "scores = [3,4,21,36,10,28,35,5,24,42]\n",
    "set(scores)"
   ]
  },
  {
   "cell_type": "code",
   "execution_count": 27,
   "metadata": {},
   "outputs": [],
   "source": [
    "def breakingRecords(scores):\n",
    "    highest_count = 0\n",
    "    high = scores[0]\n",
    "    low = scores[0]\n",
    "    lowest_count = 0\n",
    "    for score in scores:\n",
    "        if score > high:\n",
    "            highest_count +=1\n",
    "            high = score\n",
    "        if score < low:\n",
    "            lowest_count +=1\n",
    "            low = score\n",
    "    return highest_count,lowest_count\n",
    "\n",
    "    "
   ]
  },
  {
   "cell_type": "code",
   "execution_count": 28,
   "metadata": {},
   "outputs": [
    {
     "data": {
      "text/plain": [
       "(4, 0)"
      ]
     },
     "execution_count": 28,
     "metadata": {},
     "output_type": "execute_result"
    }
   ],
   "source": [
    "breakingRecords(scores)"
   ]
  },
  {
   "cell_type": "code",
   "execution_count": null,
   "metadata": {},
   "outputs": [],
   "source": []
  }
 ],
 "metadata": {
  "kernelspec": {
   "display_name": "Python 3",
   "language": "python",
   "name": "python3"
  },
  "language_info": {
   "codemirror_mode": {
    "name": "ipython",
    "version": 3
   },
   "file_extension": ".py",
   "mimetype": "text/x-python",
   "name": "python",
   "nbconvert_exporter": "python",
   "pygments_lexer": "ipython3",
   "version": "3.7.4"
  }
 },
 "nbformat": 4,
 "nbformat_minor": 2
}
