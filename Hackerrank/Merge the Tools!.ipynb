{
 "cells": [
  {
   "cell_type": "markdown",
   "metadata": {},
   "source": [
    "### Input Format\n",
    "\n",
    "The first line contains a single string denoting s .\n",
    "The second line contains an integer, k, denoting the length of each subsegment.\n",
    "\n",
    "### Output Format\n",
    "\n",
    "Print n/k lines where each line i contains string u .\n",
    "\n",
    "- Any repeat occurrence of a character is removed from the string such that each character in u  occurs exactly once. In other words, if the character at some index j  in t occurs at a previous index < j  in t , then do not include the character in string ."
   ]
  },
  {
   "cell_type": "code",
   "execution_count": 139,
   "metadata": {},
   "outputs": [],
   "source": [
    "sample = 'AABCAAADA'\n",
    "k = 3\n"
   ]
  },
  {
   "cell_type": "code",
   "execution_count": 143,
   "metadata": {},
   "outputs": [
    {
     "name": "stdout",
     "output_type": "stream",
     "text": [
      "AB\n",
      "CA\n",
      "AD\n"
     ]
    }
   ],
   "source": [
    "merge_the_tools(sample,k)"
   ]
  },
  {
   "cell_type": "code",
   "execution_count": 144,
   "metadata": {},
   "outputs": [],
   "source": [
    "def merge_the_tools(string, k):\n",
    "    segments = []\n",
    "    final = []\n",
    "    for i in range(0, len(string), k):\n",
    "        segments.append(string[i: (i + k)])\n",
    "    for string in segments:\n",
    "        for letter in string:\n",
    "            if letter not in final:\n",
    "                final.append(letter)\n",
    "        print(\"\".join(final))\n",
    "        final = [] #reset"
   ]
  },
  {
   "cell_type": "code",
   "execution_count": null,
   "metadata": {},
   "outputs": [],
   "source": []
  }
 ],
 "metadata": {
  "kernelspec": {
   "display_name": "Python 3",
   "language": "python",
   "name": "python3"
  },
  "language_info": {
   "codemirror_mode": {
    "name": "ipython",
    "version": 3
   },
   "file_extension": ".py",
   "mimetype": "text/x-python",
   "name": "python",
   "nbconvert_exporter": "python",
   "pygments_lexer": "ipython3",
   "version": "3.7.4"
  }
 },
 "nbformat": 4,
 "nbformat_minor": 2
}
