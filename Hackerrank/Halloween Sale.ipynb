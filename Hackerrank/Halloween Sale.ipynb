{
 "cells": [
  {
   "cell_type": "markdown",
   "metadata": {},
   "source": [
    "You wish to buy video games from the famous online video game store Mist.\n",
    "\n",
    "Usually, all games are sold at the same price, p dollars. However, they are planning to have the seasonal Halloween Sale next month in which you can buy games at a cheaper price. Specifically, the first game you buy during the sale will be sold at  dollars, but every subsequent game you buy will be sold at exactly d dollars less than the cost of the previous one you bought. This will continue until the cost becomes less than or equal to m dollars, after which every game you buy will cost m dollars each.\n",
    "\n",
    "\n",
    "\n",
    "You have s dollars in your Mist wallet. How many games can you buy during the Halloween Sale?\n",
    "\n",
    "#### Input Format\n",
    "\n",
    "The first and only line of input contains four space-separated integers p,d,m and s .\n",
    "\n",
    "\n",
    "#### Output Format\n",
    "\n",
    "Print a single line containing a single integer denoting the maximum number of games you can buy.\n",
    "\n"
   ]
  },
  {
   "cell_type": "code",
   "execution_count": 54,
   "metadata": {},
   "outputs": [],
   "source": [
    "p = 100\n",
    "d = 19\n",
    "m = 1\n",
    "s = 180 "
   ]
  },
  {
   "cell_type": "code",
   "execution_count": 56,
   "metadata": {},
   "outputs": [],
   "source": [
    "def howManyGames(p,d,m,s):\n",
    "    spent = 0 \n",
    "    games = 0\n",
    "    cost = p \n",
    "    while spent < s and p < s:\n",
    "        if games == 0 and cost >= m:\n",
    "            games += 1\n",
    "            spent = cost\n",
    "        elif games > 0 and (cost - d) > m:\n",
    "            cost -= d\n",
    "            spent += cost\n",
    "            if spent <= s:\n",
    "                games += 1\n",
    "        elif games > 0 and (cost - d) <= m:\n",
    "            cost = m\n",
    "            spent += cost\n",
    "            if spent <= s: \n",
    "                games += 1\n",
    "    return games\n",
    " \n",
    "            \n",
    "            "
   ]
  },
  {
   "cell_type": "code",
   "execution_count": 57,
   "metadata": {},
   "outputs": [
    {
     "data": {
      "text/plain": [
       "1"
      ]
     },
     "execution_count": 57,
     "metadata": {},
     "output_type": "execute_result"
    }
   ],
   "source": [
    "howManyGames(p,d,m,s)"
   ]
  }
 ],
 "metadata": {
  "kernelspec": {
   "display_name": "Python 3",
   "language": "python",
   "name": "python3"
  },
  "language_info": {
   "codemirror_mode": {
    "name": "ipython",
    "version": 3
   },
   "file_extension": ".py",
   "mimetype": "text/x-python",
   "name": "python",
   "nbconvert_exporter": "python",
   "pygments_lexer": "ipython3",
   "version": "3.7.4"
  }
 },
 "nbformat": 4,
 "nbformat_minor": 2
}
