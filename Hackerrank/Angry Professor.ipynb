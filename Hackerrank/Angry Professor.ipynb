{
 "cells": [
  {
   "cell_type": "markdown",
   "metadata": {},
   "source": [
    "#### Function Description\n",
    "\n",
    "Complete the angryProfessor function in the editor below. It must return YES if class is cancelled, or NO otherwise.\n",
    "\n",
    "angryProfessor has the following parameter(s):\n",
    "\n",
    "k: the threshold number of students\n",
    "a: an array of integers representing arrival times"
   ]
  },
  {
   "cell_type": "code",
   "execution_count": 5,
   "metadata": {},
   "outputs": [],
   "source": [
    "def angryProfessor(k,a):\n",
    "    late_students = 0\n",
    "    for student in a: \n",
    "        if student > 0:\n",
    "            late_students +=1\n",
    "    return 'NO' if (len(a) - late_students) >= k else \"YES\"\n",
    "    "
   ]
  },
  {
   "cell_type": "code",
   "execution_count": 6,
   "metadata": {},
   "outputs": [
    {
     "data": {
      "text/plain": [
       "'YES'"
      ]
     },
     "execution_count": 6,
     "metadata": {},
     "output_type": "execute_result"
    }
   ],
   "source": [
    "angryProfessor(3,[-1,-3,4,2])"
   ]
  },
  {
   "cell_type": "code",
   "execution_count": null,
   "metadata": {},
   "outputs": [],
   "source": []
  }
 ],
 "metadata": {
  "kernelspec": {
   "display_name": "Python 3",
   "language": "python",
   "name": "python3"
  },
  "language_info": {
   "codemirror_mode": {
    "name": "ipython",
    "version": 3
   },
   "file_extension": ".py",
   "mimetype": "text/x-python",
   "name": "python",
   "nbconvert_exporter": "python",
   "pygments_lexer": "ipython3",
   "version": "3.7.4"
  }
 },
 "nbformat": 4,
 "nbformat_minor": 2
}
