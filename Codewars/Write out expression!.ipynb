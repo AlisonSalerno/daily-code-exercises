{
 "cells": [
  {
   "cell_type": "markdown",
   "metadata": {},
   "source": [
    "Math hasn't always been your best subject, and these programming symbols always trip you up!\n",
    "\n",
    "I mean, does ** mean *\"Times, Times\"* or *\"To the power of\"*?\n",
    "\n",
    "Luckily, you can create the function expression_out() to write out the expressions for you!\n",
    "\n",
    "The operators you'll need to use are:\n",
    "\n",
    "These values will be stored in the preloaded dictionary OPERATORS just as shown above.\n",
    "\n",
    "But keep in mind: INVALID operators will also be tested, to which you should return \"That's not an operator!\"\n",
    "\n",
    "And all of the numbers will be 1 to10! Isn't that nice!\n",
    "\n",
    "Here's a few examples to clarify:\n"
   ]
  },
  {
   "cell_type": "code",
   "execution_count": 3,
   "metadata": {},
   "outputs": [
    {
     "data": {
      "text/plain": [
       "'1'"
      ]
     },
     "execution_count": 3,
     "metadata": {},
     "output_type": "execute_result"
    }
   ],
   "source": [
    "exp = \"1 + 3\"\n"
   ]
  },
  {
   "cell_type": "code",
   "execution_count": 4,
   "metadata": {},
   "outputs": [],
   "source": [
    "def expression_out(exp):\n",
    "    #Your amazing code below!\n",
    "    numbers = {\"1\":\"One\",\"2\":\"Two\",\"3\":\"Three\",\"4\":\"Four\",\"5\":\"Five\",\n",
    "              \"6\":\"Six\",\"7\":\"Seven\",\"8\":\"Eight\",\"9\":\"Nine\", \"10\":\"Ten\"}\n",
    "    if exp.split()[1] in OPERATORS.keys():\n",
    "        \n",
    "        return \"{} {}{}\".format(numbers[exp.split()[0]],OPERATORS[exp.split()[1]],numbers[exp.split()[2]])\n",
    "    else: \n",
    "        return \"That's not an operator!\""
   ]
  },
  {
   "cell_type": "code",
   "execution_count": null,
   "metadata": {},
   "outputs": [],
   "source": []
  }
 ],
 "metadata": {
  "kernelspec": {
   "display_name": "Python 3",
   "language": "python",
   "name": "python3"
  },
  "language_info": {
   "codemirror_mode": {
    "name": "ipython",
    "version": 3
   },
   "file_extension": ".py",
   "mimetype": "text/x-python",
   "name": "python",
   "nbconvert_exporter": "python",
   "pygments_lexer": "ipython3",
   "version": "3.7.4"
  }
 },
 "nbformat": 4,
 "nbformat_minor": 2
}
