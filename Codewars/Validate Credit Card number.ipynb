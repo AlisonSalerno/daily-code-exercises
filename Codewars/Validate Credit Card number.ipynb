{
 "cells": [
  {
   "cell_type": "markdown",
   "metadata": {},
   "source": [
    "In this Kata, you will implement the Luhn Algorithm, which is used to help validate credit card numbers.\n",
    "\n",
    "Given a positive integer of up to 16 digits, return true if it is a valid credit card number, and false if it is not.\n",
    "\n",
    "Here is the algorithm:\n",
    "\n",
    "Double every other digit, scanning from right to left, starting from the second digit (from the right).\n",
    "\n",
    "Another way to think about it is: if there are an even number of digits, double every other digit starting with the first; if there are an odd number of digits, double every other digit starting with the second:\n",
    "\n",
    "1714 ==> [1*, 7, 1*, 4] ==> [2, 7, 2, 4]\n",
    "\n",
    "12345 ==> [1, 2*, 3, 4*, 5] ==> [1, 4, 3, 8, 5]\n",
    "\n",
    "891 ==> [8, 9*, 1] ==> [8, 18, 1]\n",
    "If a resulting number is greater than 9, replace it with the sum of its own digits (which is the same as subtracting 9 from it):\n",
    "\n",
    "[8, 18*, 1] ==> [8, (1+8), 1] ==> [8, 9, 1]\n",
    "\n",
    "or:\n",
    "\n",
    "[8, 18*, 1] ==> [8, (18-9), 1] ==> [8, 9, 1]\n",
    "Sum all of the final digits:\n",
    "\n",
    "[8, 9, 1] ==> 8 + 9 + 1 = 18\n",
    "Finally, take that sum and divide it by 10. If the remainder equals zero, the original credit card number is valid.\n",
    "\n",
    "18 (modulus) 10 ==> 8 , which is not equal to 0, so this is not a valid credit card number\n"
   ]
  },
  {
   "cell_type": "code",
   "execution_count": 18,
   "metadata": {},
   "outputs": [
    {
     "data": {
      "text/plain": [
       "[4, 1, 4, 1]"
      ]
     },
     "execution_count": 18,
     "metadata": {},
     "output_type": "execute_result"
    }
   ],
   "source": [
    "test = 2121\n",
    "digits = [int(x) for x in str(test)]\n",
    "digits\n",
    "digits = [int(v)*2 if i % 2 == 0 else int(v) for i,v in enumerate(digits)]\n",
    "digits"
   ]
  },
  {
   "cell_type": "code",
   "execution_count": 45,
   "metadata": {},
   "outputs": [],
   "source": [
    "def validate(n):\n",
    "    digits = [int(x) for x in str(n)]\n",
    "    if len(digits) % 2 == 0:\n",
    "        digits = [int(v)*2 if i % 2 == 0 else int(v) for i,v in enumerate(digits)]  \n",
    "    elif len(digits) % 2 != 0: \n",
    "        digits = [int(v)*2 if i % 2 != 0 else int(v) for i,v in enumerate(digits)]\n",
    "    for x in digits: \n",
    "        if x > 9: \n",
    "            digits.append(-9)\n",
    "    return sum(digits) % 10 == 0"
   ]
  },
  {
   "cell_type": "code",
   "execution_count": 46,
   "metadata": {},
   "outputs": [
    {
     "data": {
      "text/plain": [
       "True"
      ]
     },
     "execution_count": 46,
     "metadata": {},
     "output_type": "execute_result"
    }
   ],
   "source": [
    "validate(2121)"
   ]
  },
  {
   "cell_type": "code",
   "execution_count": null,
   "metadata": {},
   "outputs": [],
   "source": []
  }
 ],
 "metadata": {
  "kernelspec": {
   "display_name": "Python 3",
   "language": "python",
   "name": "python3"
  },
  "language_info": {
   "codemirror_mode": {
    "name": "ipython",
    "version": 3
   },
   "file_extension": ".py",
   "mimetype": "text/x-python",
   "name": "python",
   "nbconvert_exporter": "python",
   "pygments_lexer": "ipython3",
   "version": "3.7.4"
  }
 },
 "nbformat": 4,
 "nbformat_minor": 2
}
