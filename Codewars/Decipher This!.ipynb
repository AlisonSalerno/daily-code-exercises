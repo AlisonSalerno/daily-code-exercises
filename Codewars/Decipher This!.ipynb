{
 "cells": [
  {
   "cell_type": "markdown",
   "metadata": {},
   "source": [
    "You are given a secret message you need to decipher. Here are the things you need to know to decipher it:\n",
    "\n",
    "For each word:\n",
    "\n",
    "the second and the last letter is switched (e.g. Hello becomes Holle)\n",
    "the first letter is replaced by its character code (e.g. H becomes 72)\n",
    "Note: there are no special characters used, only letters and spaces"
   ]
  },
  {
   "cell_type": "code",
   "execution_count": 3,
   "metadata": {},
   "outputs": [
    {
     "data": {
      "text/plain": [
       "'H'"
      ]
     },
     "execution_count": 3,
     "metadata": {},
     "output_type": "execute_result"
    }
   ],
   "source": [
    "chr(72)"
   ]
  },
  {
   "cell_type": "code",
   "execution_count": 5,
   "metadata": {},
   "outputs": [],
   "source": [
    "def decipher_this(string):\n",
    "    new_string = []\n",
    "    new_word = []\n",
    "    for x in test.split(\" \"):\n",
    "        if x.isdigit():\n",
    "            new_word.append(x)\n",
    "        elif x.isdigit() == False:\n",
    "            new_word.append()\n",
    "            \n",
    "        "
   ]
  },
  {
   "cell_type": "code",
   "execution_count": null,
   "metadata": {},
   "outputs": [],
   "source": []
  }
 ],
 "metadata": {
  "kernelspec": {
   "display_name": "Python 3",
   "language": "python",
   "name": "python3"
  },
  "language_info": {
   "codemirror_mode": {
    "name": "ipython",
    "version": 3
   },
   "file_extension": ".py",
   "mimetype": "text/x-python",
   "name": "python",
   "nbconvert_exporter": "python",
   "pygments_lexer": "ipython3",
   "version": "3.7.4"
  }
 },
 "nbformat": 4,
 "nbformat_minor": 2
}
