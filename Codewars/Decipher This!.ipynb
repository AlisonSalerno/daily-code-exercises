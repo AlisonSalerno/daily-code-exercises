{
 "cells": [
  {
   "cell_type": "markdown",
   "metadata": {},
   "source": [
    "You are given a secret message you need to decipher. Here are the things you need to know to decipher it:\n",
    "\n",
    "For each word:\n",
    "\n",
    "the second and the last letter is switched (e.g. Hello becomes Holle)\n",
    "the first letter is replaced by its character code (e.g. H becomes 72)\n",
    "Note: there are no special characters used, only letters and spaces"
   ]
  },
  {
   "cell_type": "code",
   "execution_count": 19,
   "metadata": {},
   "outputs": [],
   "source": [
    "test = '72olle 103doo 100ya'\n",
    "test2 = \"65 119esi 111dl 111lw 108dvei 105n 97n 111ka\""
   ]
  },
  {
   "cell_type": "code",
   "execution_count": 3,
   "metadata": {},
   "outputs": [
    {
     "data": {
      "text/plain": [
       "'H'"
      ]
     },
     "execution_count": 3,
     "metadata": {},
     "output_type": "execute_result"
    }
   ],
   "source": [
    "chr(72)"
   ]
  },
  {
   "cell_type": "code",
   "execution_count": 23,
   "metadata": {},
   "outputs": [],
   "source": [
    "def decipher_this(string):\n",
    "    new_string = []\n",
    "    new_word = \"\"\n",
    "    first_letter = \"\"\n",
    "    remaining_letters = \"\"\n",
    "    for word in string.split(\" \"):\n",
    "        for x in word:\n",
    "            if x.isdigit():\n",
    "                first_letter += str(x)\n",
    "            elif x.isdigit() == False:\n",
    "                remaining_letters += x\n",
    "        new_word += chr(int(first_letter)) \n",
    "        if len(remaining_letters) > 1:\n",
    "            new_word += remaining_letters[-1]+remaining_letters[1:-1]+remaining_letters[0]\n",
    "        elif len(remaining_letters) == 1:\n",
    "            new_word+= remaining_letters\n",
    "        new_string.append(new_word)\n",
    "        new_word = \"\"\n",
    "        first_letter = \"\"\n",
    "        remaining_letters = \"\"\n",
    "    return \" \".join(new_string)\n",
    "                        \n",
    "            \n",
    "        "
   ]
  },
  {
   "cell_type": "code",
   "execution_count": 24,
   "metadata": {},
   "outputs": [
    {
     "data": {
      "text/plain": [
       "'A wise old owl lived in an oak'"
      ]
     },
     "execution_count": 24,
     "metadata": {},
     "output_type": "execute_result"
    }
   ],
   "source": [
    "decipher_this(test2)"
   ]
  },
  {
   "cell_type": "code",
   "execution_count": null,
   "metadata": {},
   "outputs": [],
   "source": []
  }
 ],
 "metadata": {
  "kernelspec": {
   "display_name": "Python 3",
   "language": "python",
   "name": "python3"
  },
  "language_info": {
   "codemirror_mode": {
    "name": "ipython",
    "version": 3
   },
   "file_extension": ".py",
   "mimetype": "text/x-python",
   "name": "python",
   "nbconvert_exporter": "python",
   "pygments_lexer": "ipython3",
   "version": "3.7.4"
  }
 },
 "nbformat": 4,
 "nbformat_minor": 2
}
