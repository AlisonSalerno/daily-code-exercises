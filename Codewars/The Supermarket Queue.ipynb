{
 "cells": [
  {
   "cell_type": "markdown",
   "metadata": {},
   "source": [
    "There is a queue for the self-checkout tills at the supermarket. Your task is write a function to calculate the total time required for all the customers to check out!\n",
    "\n",
    "#### input\n",
    "customers: an array of positive integers representing the queue. Each integer represents a customer, and its value is the amount of time they require to check out.\n",
    "n: a positive integer, the number of checkout tills.\n",
    "#### output\n",
    "The function should return an integer, the total time required."
   ]
  },
  {
   "cell_type": "code",
   "execution_count": 186,
   "metadata": {},
   "outputs": [],
   "source": [
    "customers_1 = [5,3,4]\n",
    "n_1 = 1\n",
    "\n",
    "customers_2 = [10,2,3,3]\n",
    "n_2 = 2\n",
    "\n",
    "customers_3 = [2,2,3,3,4,4]\n",
    "n_3 = 2\n",
    "\n"
   ]
  },
  {
   "cell_type": "code",
   "execution_count": 184,
   "metadata": {},
   "outputs": [],
   "source": [
    "def queue_time(customers, n):\n",
    "    time_spent = [0] * n\n",
    "    if n == 1 or len(customers) == 1:\n",
    "        return sum(customers)\n",
    "    elif len(customers) < n:\n",
    "        return max(customer)\n",
    "    else:\n",
    "        for customer in customers:\n",
    "            time_spent[time_spent.index(min(time_spent))] += customer                    \n",
    "    return max(time_spent)\n",
    "            \n",
    "            \n",
    "        "
   ]
  },
  {
   "cell_type": "code",
   "execution_count": 185,
   "metadata": {},
   "outputs": [
    {
     "data": {
      "text/plain": [
       "9"
      ]
     },
     "execution_count": 185,
     "metadata": {},
     "output_type": "execute_result"
    }
   ],
   "source": [
    "queue_time(customers_3,n_3)"
   ]
  },
  {
   "cell_type": "code",
   "execution_count": null,
   "metadata": {},
   "outputs": [],
   "source": []
  }
 ],
 "metadata": {
  "kernelspec": {
   "display_name": "Python 3",
   "language": "python",
   "name": "python3"
  },
  "language_info": {
   "codemirror_mode": {
    "name": "ipython",
    "version": 3
   },
   "file_extension": ".py",
   "mimetype": "text/x-python",
   "name": "python",
   "nbconvert_exporter": "python",
   "pygments_lexer": "ipython3",
   "version": "3.7.4"
  }
 },
 "nbformat": 4,
 "nbformat_minor": 2
}
