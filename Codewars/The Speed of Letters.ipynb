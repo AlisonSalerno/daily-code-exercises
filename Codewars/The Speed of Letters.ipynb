{
 "cells": [
  {
   "cell_type": "markdown",
   "metadata": {},
   "source": [
    "Given a string as input, return a new string with each letter pushed to the right by its respective index in the alphabet.\n",
    "\n",
    "We all know that A is a slow and Z is a fast letter. This means that Z gets shifted to the right by 25 spaces, A doesn't get shifted at all, and B gets shifted by 1 space.\n",
    "\n",
    "You can assume the following things about your input:\n",
    "\n",
    "It will only contain uppercase letters from A to Z, no whitespaces or punctuation;\n",
    "Input strings will not exceed 100 characters (although your output string might!)\n",
    "Note that if 2 or more letters fall onto the same space after shifting, the latest character will be used. For example: \"BA\" -> \" A\""
   ]
  },
  {
   "cell_type": "code",
   "execution_count": 73,
   "metadata": {},
   "outputs": [],
   "source": [
    "test = \"ABC\""
   ]
  },
  {
   "cell_type": "code",
   "execution_count": 76,
   "metadata": {},
   "outputs": [],
   "source": [
    "ABC = 'ABCDEFGHIJKLMNOPQRSTUVWXYZ'\n",
    "def speedify(st): \n",
    "    result = [' '] * (len(st) + 26)\n",
    "    for i in range(len(st)):\n",
    "        result[i + ABC.index(st[i])] = st[i]\n",
    "    return ''.join(result).rstrip()"
   ]
  },
  {
   "cell_type": "code",
   "execution_count": 77,
   "metadata": {},
   "outputs": [
    {
     "data": {
      "text/plain": [
       "'A B C'"
      ]
     },
     "execution_count": 77,
     "metadata": {},
     "output_type": "execute_result"
    }
   ],
   "source": [
    "speedify(test)"
   ]
  }
 ],
 "metadata": {
  "kernelspec": {
   "display_name": "Python 3",
   "language": "python",
   "name": "python3"
  },
  "language_info": {
   "codemirror_mode": {
    "name": "ipython",
    "version": 3
   },
   "file_extension": ".py",
   "mimetype": "text/x-python",
   "name": "python",
   "nbconvert_exporter": "python",
   "pygments_lexer": "ipython3",
   "version": "3.7.4"
  }
 },
 "nbformat": 4,
 "nbformat_minor": 2
}
