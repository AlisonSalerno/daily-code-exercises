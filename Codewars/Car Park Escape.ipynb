{
 "cells": [
  {
   "cell_type": "markdown",
   "metadata": {},
   "source": [
    "Your task is to escape from the carpark using only the staircases provided to reach the exit. You may not jump over the edge of the levels (you’re not Superman!) and the exit is always on the far right of the ground floor.\n",
    "\n",
    "1. You are passed the carpark data as an argument into the function.\n",
    "\n",
    "2. Free carparking spaces are represented by a 0\n",
    "\n",
    "3. Staircases are represented by a 1\n",
    "\n",
    "4. Your parking place (start position) is represented by a 2\n",
    "\n",
    "5. The exit is always the far right element of the ground floor.\n",
    "\n",
    "6. You must use the staircases to go down a level.\n",
    "\n",
    "7. You will never start on a staircase.\n",
    "\n",
    "8. The start level may be any level of the car park.\n",
    "\n",
    "9. Each floor will have only one staircase apart from the ground floor which will not have any staircases.\n",
    "\n",
    "Return an array of the quickest route out of the carpark\n",
    "\n",
    "R1 = Move Right one parking space.\n",
    "\n",
    "L1 = Move Left one parking space.\n",
    "\n",
    "D1 = Move Down one level."
   ]
  },
  {
   "cell_type": "code",
   "execution_count": 109,
   "metadata": {},
   "outputs": [],
   "source": [
    "carpark = [[1, 0, 0, 0, 2],\n",
    "           [0, 0, 0, 0, 0]]\n",
    "#result = [\"L4\", \"D1\", \"R4\"]\n"
   ]
  },
  {
   "cell_type": "code",
   "execution_count": null,
   "metadata": {},
   "outputs": [],
   "source": [
    "# for level in carpark[1:]:\n",
    "#      print(level)\n",
    "\n",
    "# for level in carpark:\n",
    "#     if 2 in level:\n",
    "#         print(carpark.index(level))"
   ]
  },
  {
   "cell_type": "code",
   "execution_count": 113,
   "metadata": {},
   "outputs": [],
   "source": [
    "def escape(carpark):\n",
    "    result = [] #directions to be returned\n",
    "    stair_pos = 0 #stair position\n",
    "    stair_count = 0 #stair count to update D if consecutive stairs\n",
    "    start = 0 # start where parked\n",
    "    \n",
    "    for level in carpark:\n",
    "        if 2 in level: \n",
    "            start = carpark.index(level)\n",
    "            \n",
    "    for level in carpark[start:]:\n",
    "        if 1 in level and 2 in level:\n",
    "            if level.index(2) - level.index(1) >= 0:\n",
    "                result.append(\"L{}\".format(level.index(2) - level.index(1)))\n",
    "            if level.index(2) - level.index(1) < 0:\n",
    "                result.append(\"R{}\".format(abs(level.index(2) - level.index(1))))                 \n",
    "            result.append(\"D1\")\n",
    "            stair_pos = level.index(1)\n",
    "            stair_count +=1\n",
    "        elif 1 in level and 2 not in level:\n",
    "            if stair_pos == level.index(1):\n",
    "                stair_count += 1\n",
    "                result[-1] = \"D{}\".format(stair_count)\n",
    "            elif stair_pos != level.index(1):\n",
    "                if stair_pos - level.index(1) >= 0:\n",
    "                    result.append(\"L{}\".format(stair_pos - level.index(1)))\n",
    "                if stair_pos - level.index(1) < 0:\n",
    "                    result.append(\"R{}\".format(abs(stair_pos - level.index(1))))\n",
    "                stair_pos = level.index(1)\n",
    "                stair_count = 1\n",
    "                result.append(\"D{}\".format(stair_count))\n",
    "        elif len(set(level)) == 1:\n",
    "            if abs(stair_pos - (len(level)-1)) >= 1:\n",
    "                result.append(\"R{}\".format(abs(stair_pos - (len(level)-1)))) \n",
    "            else: \n",
    "                return result\n",
    "        elif 2 in level and 0 in level and 1 not in level:\n",
    "            if level.index(2) - (len(level)-1) > 0:\n",
    "                result.append(\"L{}\".format(level.index(2) - (len(level)-1)))\n",
    "            if level.index(2) - (len(level)-1) < 0:\n",
    "                result.append(\"R{}\".format(abs(level.index(2) - (len(level)-1))))\n",
    "            else:\n",
    "                return result\n",
    "    return result\n",
    "    "
   ]
  },
  {
   "cell_type": "code",
   "execution_count": 114,
   "metadata": {},
   "outputs": [
    {
     "data": {
      "text/plain": [
       "['L4', 'D1', 'R4']"
      ]
     },
     "execution_count": 114,
     "metadata": {},
     "output_type": "execute_result"
    }
   ],
   "source": [
    "escape(carpark)"
   ]
  },
  {
   "cell_type": "code",
   "execution_count": null,
   "metadata": {},
   "outputs": [],
   "source": []
  }
 ],
 "metadata": {
  "kernelspec": {
   "display_name": "Python 3",
   "language": "python",
   "name": "python3"
  },
  "language_info": {
   "codemirror_mode": {
    "name": "ipython",
    "version": 3
   },
   "file_extension": ".py",
   "mimetype": "text/x-python",
   "name": "python",
   "nbconvert_exporter": "python",
   "pygments_lexer": "ipython3",
   "version": "3.7.4"
  }
 },
 "nbformat": 4,
 "nbformat_minor": 2
}
