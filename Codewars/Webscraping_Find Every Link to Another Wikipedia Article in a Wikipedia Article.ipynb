{
 "cells": [
  {
   "cell_type": "markdown",
   "metadata": {},
   "source": [
    "You will create a function that accepts the url of a Wikipedia article as an argument. This function will return a dictionary of keys as titles of articles (given by the title attribute of anchor tags), and values as URLs of articles. The dictionary will only contain items that are links to other Wikipedia articles.\n",
    "\n",
    "You will be scraping only through the div with the id \"bodyContent\" to do this (the content of the article on the webpage).\n",
    "\n",
    "The values of the dictionary will be full links, not relative links:\n",
    "\n",
    "e.g. 'https://en.wikipedia.org/wiki/Easter_Island' as opposed to '/wiki/Easter_Island'\n",
    "\n",
    "Anchor tags with links to images, help pages, categories of articles, etc will not be present in the returned dictionary; only true Wikipedia articles will be present.\n",
    "\n"
   ]
  },
  {
   "cell_type": "code",
   "execution_count": 9,
   "metadata": {},
   "outputs": [],
   "source": [
    "import requests\n",
    "from bs4 import BeautifulSoup"
   ]
  },
  {
   "cell_type": "code",
   "execution_count": 232,
   "metadata": {},
   "outputs": [],
   "source": [
    "\n",
    "def wikiscraping(url):\n",
    "    page = requests.get(url)\n",
    "    soup = BeautifulSoup(page.content,\"html.parser\")\n",
    "    links_dict = {}\n",
    "    links = soup.find(id=\"bodyContent\")\n",
    "    for link in links.find_all(\"a\"):\n",
    "        new_url = link.get(\"href\",\"\")\n",
    "        if \"/wiki/\" in new_url and \":\" not in new_url: #only capture links to other wiki articles\n",
    "            #pull text from end of url for key in dictionary\n",
    "            #value in dictionary equals exact url\n",
    "            links_dict[new_url.split(\"/wiki/\",1)[1].strip().replace(\"%E2%80%93\",\"-\").replace(\"_\",\" \").replace(\"%27\",\"'\")]= \"https://en.wikipedia.org{}\".format(new_url)\n",
    "    return links_dict\n",
    "    \n",
    "    "
   ]
  },
  {
   "cell_type": "code",
   "execution_count": 235,
   "metadata": {},
   "outputs": [
    {
     "data": {
      "text/plain": [
       "{'Types of business entity': 'https://en.wikipedia.org/wiki/Types_of_business_entity',\n",
       " 'Organizational founder': 'https://en.wikipedia.org/wiki/Organizational_founder',\n",
       " 'Computer programming': 'https://en.wikipedia.org/wiki/Computer_programming',\n",
       " 'Kata (programming)': 'https://en.wikipedia.org/wiki/Kata_(programming)',\n",
       " 'Integrated development environment': 'https://en.wikipedia.org/wiki/Integrated_development_environment',\n",
       " 'Gamification': 'https://en.wikipedia.org/wiki/Gamification',\n",
       " 'Paige Craig': 'https://en.wikipedia.org/wiki/Paige_Craig',\n",
       " 'Brian Lee (entrepreneur)': 'https://en.wikipedia.org/wiki/Brian_Lee_(entrepreneur)',\n",
       " 'Hacker News': 'https://en.wikipedia.org/wiki/Hacker_News',\n",
       " 'University of Southern California': 'https://en.wikipedia.org/wiki/University_of_Southern_California',\n",
       " 'Cornerstone OnDemand Inc.': 'https://en.wikipedia.org/wiki/Cornerstone_OnDemand_Inc.',\n",
       " 'CodeFights': 'https://en.wikipedia.org/wiki/CodeFights',\n",
       " 'CodinGame': 'https://en.wikipedia.org/wiki/CodinGame',\n",
       " 'Competitive programming': 'https://en.wikipedia.org/wiki/Competitive_programming',\n",
       " 'HackerRank': 'https://en.wikipedia.org/wiki/HackerRank'}"
      ]
     },
     "execution_count": 235,
     "metadata": {},
     "output_type": "execute_result"
    }
   ],
   "source": [
    "wikiscraping(url)"
   ]
  },
  {
   "cell_type": "code",
   "execution_count": 234,
   "metadata": {},
   "outputs": [],
   "source": [
    "url = \"https://en.wikipedia.org/wiki/Codewars\""
   ]
  }
 ],
 "metadata": {
  "kernelspec": {
   "display_name": "Python 3",
   "language": "python",
   "name": "python3"
  },
  "language_info": {
   "codemirror_mode": {
    "name": "ipython",
    "version": 3
   },
   "file_extension": ".py",
   "mimetype": "text/x-python",
   "name": "python",
   "nbconvert_exporter": "python",
   "pygments_lexer": "ipython3",
   "version": "3.7.4"
  }
 },
 "nbformat": 4,
 "nbformat_minor": 2
}
