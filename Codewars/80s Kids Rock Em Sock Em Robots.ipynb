{
 "cells": [
  {
   "cell_type": "markdown",
   "metadata": {},
   "source": [
    "You and your friends have been battling it out with your Rock 'Em, Sock 'Em robots, but things have gotten a little boring. You've each decided to add some amazing new features to your robot and automate them to battle to the death.\n",
    "\n",
    "Each robot will be represented by an object. You will be given two robot objects, and an object of battle tactics and how much damage they produce. Each robot will have a name, hit points, speed, and then a list of battle tacitcs they are to perform in order. Whichever robot has the best speed, will attack first with one battle tactic.\n",
    "\n",
    "Your job is to decide who wins.\n",
    "\n",
    "A robot with the most speed attacks first. If they are tied, the first robot passed in attacks first.\n",
    "Robots alternate turns attacking. Tactics are used in order.\n",
    "A fight is over when a robot has 0 or less health or both robots have run out of tactics.\n",
    "A robot who has no tactics left does no more damage, but the other robot may use the rest of his tactics.\n",
    "If both robots run out of tactics, whoever has the most health wins. Return the message \"{Name} has won the fight.\"\n",
    "If both robots run out of tactics and are tied for health, the fight is a draw. Return \"The fight was a draw.\""
   ]
  },
  {
   "cell_type": "code",
   "execution_count": 7,
   "metadata": {},
   "outputs": [],
   "source": [
    "robot_1 = {\"name\": \"Rocky\", \"health\": 100, \"speed\": 20, \"tactics\": [\"missile\", \"missile\", \"missile\", \"missile\"] }\n",
    "robot_2 = {\"name\": \"Missile Bob\", \"health\": 100, \"speed\": 21, \"tactics\": [\"punch\", \"laser\", \"laser\", \"missile\"]}\n",
    "tactics = {\"punch\": 20, \"laser\": 30, \"missile\": 35}"
   ]
  },
  {
   "cell_type": "code",
   "execution_count": 18,
   "metadata": {},
   "outputs": [],
   "source": [
    "def fight(robot_1,robot_2,tactics):\n",
    "    if robot_2['speed'] > robot_1['speed']:\n",
    "        while len(robot_2['tactics']) != 0 or len(robot_1['tactics']) != 0:\n",
    "            if robot_2['health'] > 0:         \n",
    "                if len(robot_2['tactics']) > 0:\n",
    "                    robot_1['health'] = robot_1['health'] - tactics[robot_2[\"tactics\"][0]]\n",
    "                    robot_2[\"tactics\"].remove(robot_2[\"tactics\"][0])\n",
    "            if robot_1['health'] > 0:\n",
    "                if len(robot_1['tactics']) > 0 and robot_1['health'] > 0:\n",
    "                    robot_2['health'] = robot_2['health'] - tactics[robot_1[\"tactics\"][0]]\n",
    "                    robot_1[\"tactics\"].remove(robot_1[\"tactics\"][0])\n",
    "            else: \n",
    "                break\n",
    "    \n",
    "    else:\n",
    "        while len(robot_2['tactics']) != 0 or len(robot_1['tactics']) != 0:\n",
    "            if robot_1['health'] > 0:\n",
    "                if len(robot_1['tactics']) > 0:\n",
    "                    robot_2['health'] = robot_2['health'] - tactics[robot_1[\"tactics\"][0]]\n",
    "                    robot_1[\"tactics\"].remove(robot_1[\"tactics\"][0])\n",
    "            if robot_2['health'] > 0:\n",
    "                if len(robot_2['tactics']) > 0:\n",
    "                    robot_1['health'] = robot_1['health'] - tactics[robot_2[\"tactics\"][0]]\n",
    "                    robot_2[\"tactics\"].remove(robot_2[\"tactics\"][0])\n",
    "            else:\n",
    "                break\n",
    "                \n",
    "    if robot_1[\"health\"] == robot_2[\"health\"]:\n",
    "        return \"The fight was a draw.\"\n",
    "    else: \n",
    "        return \"{} has won the fight.\".format(robot_1[\"name\"] if robot_1[\"health\"] > robot_2[\"health\"] else robot_2['name'])\n",
    "            \n",
    "            \n",
    "  \n"
   ]
  },
  {
   "cell_type": "code",
   "execution_count": 19,
   "metadata": {},
   "outputs": [
    {
     "data": {
      "text/plain": [
       "'Rocky has won the fight.'"
      ]
     },
     "execution_count": 19,
     "metadata": {},
     "output_type": "execute_result"
    }
   ],
   "source": [
    "fight(robot_1,robot_2,tactics)"
   ]
  },
  {
   "cell_type": "code",
   "execution_count": null,
   "metadata": {},
   "outputs": [],
   "source": []
  }
 ],
 "metadata": {
  "kernelspec": {
   "display_name": "Python 3",
   "language": "python",
   "name": "python3"
  },
  "language_info": {
   "codemirror_mode": {
    "name": "ipython",
    "version": 3
   },
   "file_extension": ".py",
   "mimetype": "text/x-python",
   "name": "python",
   "nbconvert_exporter": "python",
   "pygments_lexer": "ipython3",
   "version": "3.7.4"
  }
 },
 "nbformat": 4,
 "nbformat_minor": 2
}
