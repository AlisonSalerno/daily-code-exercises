{
 "cells": [
  {
   "cell_type": "markdown",
   "metadata": {},
   "source": [
    "In this Kata, you will be given a string and your task will be to return a list of ints detailing the count of uppercase letters, lowercase, numbers and special characters, as follows.\n",
    "\n",
    "Solve(\"*'&ABCDabcde12345\") = [4,5,5,3]. \n",
    "--the order is: uppercase letters, lowercase, numbers and special characters."
   ]
  },
  {
   "cell_type": "code",
   "execution_count": 1,
   "metadata": {},
   "outputs": [],
   "source": [
    "def solve(s):\n",
    "    count_u = 0\n",
    "    count_l = 0\n",
    "    count_n = 0\n",
    "    count_s = 0\n",
    "    for ele in s:\n",
    "        if ele.isupper():\n",
    "            count_u += 1\n",
    "        elif ele.islower():\n",
    "            count_l += 1\n",
    "        elif ele in [\"1\",\"2\",\"3\",\"4\",\"5\",\"6\",\"7\",\"8\",\"9\",\"0\"]:\n",
    "            count_n += 1\n",
    "        else: \n",
    "            count_s += 1\n",
    "    return [count_u,count_l,count_n,count_s]"
   ]
  },
  {
   "cell_type": "code",
   "execution_count": null,
   "metadata": {},
   "outputs": [],
   "source": []
  }
 ],
 "metadata": {
  "kernelspec": {
   "display_name": "Python 3",
   "language": "python",
   "name": "python3"
  },
  "language_info": {
   "codemirror_mode": {
    "name": "ipython",
    "version": 3
   },
   "file_extension": ".py",
   "mimetype": "text/x-python",
   "name": "python",
   "nbconvert_exporter": "python",
   "pygments_lexer": "ipython3",
   "version": "3.7.4"
  }
 },
 "nbformat": 4,
 "nbformat_minor": 2
}
