{
 "cells": [
  {
   "cell_type": "markdown",
   "metadata": {},
   "source": [
    "ou are given an array(list) strarr of strings and an integer k. Your task is to return the first longest string consisting of k consecutive strings taken in the array.\n",
    "\n",
    "Examples:\n",
    "strarr = [\"tree\", \"foling\", \"trashy\", \"blue\", \"abcdef\", \"uvwxyz\"], k = 2\n",
    "\n",
    "\n",
    "Concatenate the consecutive strings of strarr by 2, we get:\n",
    "\n",
    "treefoling   (length 10)  concatenation of strarr[0] and strarr[1]\n",
    "folingtrashy (\"      12)  concatenation of strarr[1] and strarr[2]\n",
    "trashyblue   (\"      10)  concatenation of strarr[2] and strarr[3]\n",
    "blueabcdef   (\"      10)  concatenation of strarr[3] and strarr[4]\n",
    "abcdefuvwxyz (\"      12)  concatenation of strarr[4] and strarr[5]\n",
    "\n",
    "Two strings are the longest: \"folingtrashy\" and \"abcdefuvwxyz\".\n",
    "The first that came is \"folingtrashy\" so \n",
    "longest_consec(strarr, 2) should return \"folingtrashy\".\n",
    "\n",
    "In the same way:\n",
    "longest_consec([\"zone\", \"abigail\", \"theta\", \"form\", \"libe\", \"zas\", \"theta\", \"abigail\"], 2) --> \"abigailtheta\""
   ]
  },
  {
   "cell_type": "code",
   "execution_count": 47,
   "metadata": {},
   "outputs": [],
   "source": [
    "def longest_consec(strarr, k):\n",
    "    consecutive_strings = []\n",
    "    lengths = []\n",
    "    if len(strarr) == 0 or k>len(strarr) or k<= 0:\n",
    "        return \"\"\n",
    "    elif k == 1:\n",
    "        for word in strarr:\n",
    "            lengths.append(len(word))\n",
    "        return strarr[lengths.index(max(lengths))]\n",
    "    else:\n",
    "        for num in range(0,len(strarr)-1):\n",
    "            consecutive_strings.append(\"\".join(strarr[num:num+k]))\n",
    "        for word in consecutive_strings:\n",
    "            lengths.append(len(word))\n",
    "    return consecutive_strings[lengths.index(max(lengths))]\n",
    "            \n",
    "    "
   ]
  },
  {
   "cell_type": "code",
   "execution_count": 40,
   "metadata": {},
   "outputs": [],
   "source": [
    "test = [\"zone\", \"abigail\", \"theta\", \"form\", \"libe\", \"zas\"]"
   ]
  },
  {
   "cell_type": "code",
   "execution_count": 48,
   "metadata": {},
   "outputs": [
    {
     "data": {
      "text/plain": [
       "'abigailtheta'"
      ]
     },
     "execution_count": 48,
     "metadata": {},
     "output_type": "execute_result"
    }
   ],
   "source": [
    "longest_consec(test,2)"
   ]
  },
  {
   "cell_type": "code",
   "execution_count": null,
   "metadata": {},
   "outputs": [],
   "source": []
  }
 ],
 "metadata": {
  "kernelspec": {
   "display_name": "Python 3",
   "language": "python",
   "name": "python3"
  },
  "language_info": {
   "codemirror_mode": {
    "name": "ipython",
    "version": 3
   },
   "file_extension": ".py",
   "mimetype": "text/x-python",
   "name": "python",
   "nbconvert_exporter": "python",
   "pygments_lexer": "ipython3",
   "version": "3.7.4"
  }
 },
 "nbformat": 4,
 "nbformat_minor": 2
}
