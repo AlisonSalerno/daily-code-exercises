{
 "cells": [
  {
   "cell_type": "markdown",
   "metadata": {},
   "source": [
    "A stream of data is received and needs to be reversed.\n",
    "\n",
    "Each segment is 8 bits long, meaning the order of these segments needs to be reversed, for example:\n",
    "\n",
    "11111111  00000000  00001111  10101010\n",
    " (byte1)   (byte2)   (byte3)   (byte4)\n",
    "should become:\n",
    "\n",
    "10101010  00001111  00000000  11111111\n",
    " (byte4)   (byte3)   (byte2)   (byte1)\n",
    "The total number of bits will always be a multiple of 8."
   ]
  },
  {
   "cell_type": "code",
   "execution_count": 1,
   "metadata": {},
   "outputs": [],
   "source": [
    "data = [1,1,1,1,1,1,1,1,0,0,0,0,0,0,0,0,0,0,0,0,1,1,1,1,1,0,1,0,1,0,1,0]"
   ]
  },
  {
   "cell_type": "code",
   "execution_count": 43,
   "metadata": {},
   "outputs": [],
   "source": [
    "def data_reverse(data):\n",
    "    reversed_data = []\n",
    "    #first put data in 8 bit segments then reverse segments\n",
    "    data = [data[i:i+8] for i in range(0, len(data),8)][::-1]\n",
    "    #data is now in correct order but as a list of segment lists\n",
    "    for segment in data:\n",
    "        for x in segment:\n",
    "            reversed_data.append(x)\n",
    "    return reversed_data"
   ]
  },
  {
   "cell_type": "code",
   "execution_count": 44,
   "metadata": {},
   "outputs": [
    {
     "name": "stdout",
     "output_type": "stream",
     "text": [
      "[1, 0, 1, 0, 1, 0, 1, 0, 0, 0, 0, 0, 1, 1, 1, 1, 0, 0, 0, 0, 0, 0, 0, 0, 1, 1, 1, 1, 1, 1, 1, 1]\n"
     ]
    }
   ],
   "source": [
    "print(data_reverse(data))"
   ]
  },
  {
   "cell_type": "code",
   "execution_count": null,
   "metadata": {},
   "outputs": [],
   "source": []
  }
 ],
 "metadata": {
  "kernelspec": {
   "display_name": "Python 3",
   "language": "python",
   "name": "python3"
  },
  "language_info": {
   "codemirror_mode": {
    "name": "ipython",
    "version": 3
   },
   "file_extension": ".py",
   "mimetype": "text/x-python",
   "name": "python",
   "nbconvert_exporter": "python",
   "pygments_lexer": "ipython3",
   "version": "3.7.4"
  }
 },
 "nbformat": 4,
 "nbformat_minor": 2
}
