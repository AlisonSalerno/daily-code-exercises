{
 "cells": [
  {
   "cell_type": "markdown",
   "metadata": {},
   "source": [
    "Given an array (arr) as an argument complete the function countSmileys that should return the total number of smiling faces.\n",
    "\n",
    "Rules for a smiling face:\n",
    "\n",
    "Each smiley face must contain a valid pair of eyes. Eyes can be marked as : or ;\n",
    "A smiley face can have a nose but it does not have to. Valid characters for a nose are - or ~\n",
    "Every smiling face must have a smiling mouth that should be marked with either ) or D\n",
    "No additional characters are allowed except for those mentioned.\n",
    "\n",
    "Valid smiley face examples: :) :D ;-D :~)\n",
    "Invalid smiley faces: ;( :> :} :]\n",
    "\n"
   ]
  },
  {
   "cell_type": "code",
   "execution_count": 42,
   "metadata": {},
   "outputs": [],
   "source": [
    "def count_smileys(arr):\n",
    "    count = 0\n",
    "    for smiley in arr:\n",
    "        if len(smiley) == 2:\n",
    "            if smiley[0] in [\":\" , \";\"] and smiley[-1] in ['D', \")\"]:\n",
    "                count +=1\n",
    "        elif len(smiley) == 3:\n",
    "            if smiley[0] in [\":\" , \";\"] and smiley[-1] in ['D', \")\"] and smiley[1] in [\"-\" , \"~\"]:\n",
    "                count +=1\n",
    "            \n",
    "    return count\n",
    "            "
   ]
  },
  {
   "cell_type": "code",
   "execution_count": null,
   "metadata": {},
   "outputs": [],
   "source": []
  }
 ],
 "metadata": {
  "kernelspec": {
   "display_name": "Python 3",
   "language": "python",
   "name": "python3"
  },
  "language_info": {
   "codemirror_mode": {
    "name": "ipython",
    "version": 3
   },
   "file_extension": ".py",
   "mimetype": "text/x-python",
   "name": "python",
   "nbconvert_exporter": "python",
   "pygments_lexer": "ipython3",
   "version": "3.7.4"
  }
 },
 "nbformat": 4,
 "nbformat_minor": 2
}
