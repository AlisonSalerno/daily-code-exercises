{
 "cells": [
  {
   "cell_type": "markdown",
   "metadata": {},
   "source": [
    "A friend of mine takes a sequence of numbers from 1 to n (where n > 0).\n",
    "Within that sequence, he chooses two numbers, a and b.\n",
    "He says that the product of a and b should be equal to the sum of all numbers in the sequence, excluding a and b.\n",
    "Given a number n, could you tell me the numbers he excluded from the sequence?"
   ]
  },
  {
   "cell_type": "code",
   "execution_count": 1,
   "metadata": {},
   "outputs": [],
   "source": [
    "def removNb(n):\n",
    "    total = sum(range(1, n+1))\n",
    "    results = []        \n",
    "    for a in range(1, n+1):\n",
    "        b = (total - a) / (a+1)\n",
    "        if b.is_integer() and b <= n:\n",
    "            results.append((a, int(b)))\n",
    "    return results"
   ]
  },
  {
   "cell_type": "code",
   "execution_count": null,
   "metadata": {},
   "outputs": [],
   "source": []
  }
 ],
 "metadata": {
  "kernelspec": {
   "display_name": "Python 3",
   "language": "python",
   "name": "python3"
  },
  "language_info": {
   "codemirror_mode": {
    "name": "ipython",
    "version": 3
   },
   "file_extension": ".py",
   "mimetype": "text/x-python",
   "name": "python",
   "nbconvert_exporter": "python",
   "pygments_lexer": "ipython3",
   "version": "3.7.4"
  }
 },
 "nbformat": 4,
 "nbformat_minor": 2
}
