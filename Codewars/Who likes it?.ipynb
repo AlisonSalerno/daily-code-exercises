{
 "cells": [
  {
   "cell_type": "markdown",
   "metadata": {},
   "source": [
    "You probably know the \"like\" system from Facebook and other pages. People can \"like\" blog posts, pictures or other items. We want to create the text that should be displayed next to such an item.\n",
    "\n",
    "Implement a function likes :: [String] -> String, which must take in input array, containing the names of people who like an item. It must return the display text as shown in the examples:"
   ]
  },
  {
   "cell_type": "code",
   "execution_count": 75,
   "metadata": {},
   "outputs": [],
   "source": [
    "names = [\"Max\",\"John\",\"Mark\"]\n",
    "test = []"
   ]
  },
  {
   "cell_type": "code",
   "execution_count": 78,
   "metadata": {},
   "outputs": [],
   "source": [
    "def likes(names):\n",
    "    if len(names) == 1:\n",
    "        return ('{}'.format(names[0] + \" \" + \"likes this\"))\n",
    "    elif len(names) == 2:\n",
    "        return ('{}'.format(\" and \".join(x for x in names) + \" \" + \"like this\"))\n",
    "    elif len(names) > 2 and len(names) <=3:\n",
    "        return ('{}'.format(\", \".join(x for x in names[0:2]) + \" and \" + names[2] + \" like this\"))\n",
    "    elif len(names) > 3: \n",
    "        return ('{}'.format(\", \".join(x for x in names[0:2]) + \" and \" + str(len(names)-2) + \" others like this\"))\n",
    "    else: \n",
    "        return ('{}'.format(\"no one likes this\"))\n",
    "        \n"
   ]
  },
  {
   "cell_type": "code",
   "execution_count": 79,
   "metadata": {},
   "outputs": [
    {
     "data": {
      "text/plain": [
       "'Max, John and Mark like this'"
      ]
     },
     "execution_count": 79,
     "metadata": {},
     "output_type": "execute_result"
    }
   ],
   "source": [
    "likes(names)"
   ]
  },
  {
   "cell_type": "code",
   "execution_count": null,
   "metadata": {},
   "outputs": [],
   "source": []
  }
 ],
 "metadata": {
  "kernelspec": {
   "display_name": "Python 3",
   "language": "python",
   "name": "python3"
  },
  "language_info": {
   "codemirror_mode": {
    "name": "ipython",
    "version": 3
   },
   "file_extension": ".py",
   "mimetype": "text/x-python",
   "name": "python",
   "nbconvert_exporter": "python",
   "pygments_lexer": "ipython3",
   "version": "3.7.4"
  }
 },
 "nbformat": 4,
 "nbformat_minor": 2
}
