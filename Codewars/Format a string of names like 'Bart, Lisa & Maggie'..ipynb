{
 "cells": [
  {
   "cell_type": "markdown",
   "metadata": {},
   "source": [
    "Given: an array containing hashes of names\n",
    "\n",
    "Return: a string formatted as a list of names separated by commas except for the last two names, which should be separated by an ampersand.\n"
   ]
  },
  {
   "cell_type": "code",
   "execution_count": 86,
   "metadata": {},
   "outputs": [
    {
     "data": {
      "text/plain": [
       "['Bart', 'Lisa', 'Maggie', 'Homer']"
      ]
     },
     "execution_count": 86,
     "metadata": {},
     "output_type": "execute_result"
    }
   ],
   "source": [
    "names=[{'name': 'Bart'},{'name': 'Lisa'},{'name': 'Maggie'},{'name': 'Homer'},{'name': 'Marge'}]\n",
    "[name['name'] for name in names[0:-1]]"
   ]
  },
  {
   "cell_type": "code",
   "execution_count": 89,
   "metadata": {},
   "outputs": [],
   "source": [
    "def namelist(names):\n",
    "    if len(names) <=1:\n",
    "        return \"{}\".format(names[0]['name']) if len(names) == 1 else \"{}\".format(\"\")\n",
    "    elif len(names) == 2:\n",
    "        return \"{} & {}\".format(names[0]['name'],names[1]['name'])\n",
    "    else:\n",
    "        return \"{}\".format(\", \".join(x['name'] for x in names[0:-1]) + \" & \" + names[-1]['name'])"
   ]
  },
  {
   "cell_type": "code",
   "execution_count": 90,
   "metadata": {},
   "outputs": [
    {
     "data": {
      "text/plain": [
       "'Bart, Lisa, Maggie, Homer & Marge'"
      ]
     },
     "execution_count": 90,
     "metadata": {},
     "output_type": "execute_result"
    }
   ],
   "source": [
    "namelist(names)"
   ]
  },
  {
   "cell_type": "code",
   "execution_count": 1,
   "metadata": {},
   "outputs": [],
   "source": [
    "def namelist(names):\n",
    "    names = [name['name'] for name in names]\n",
    "    if len(names) == 1:\n",
    "        return \"{}\".format(names[0])\n",
    "    elif len(names) == 2:\n",
    "        return \"{} & {}\".format(names[0],names[1])\n",
    "    elif len(names) > 2:\n",
    "        return \"{}\".format(\", \".join(name for name in names[0:-1]) + \" & \" + names[-1])\n",
    "    else: \n",
    "        return \"\""
   ]
  },
  {
   "cell_type": "code",
   "execution_count": null,
   "metadata": {},
   "outputs": [],
   "source": []
  }
 ],
 "metadata": {
  "kernelspec": {
   "display_name": "Python 3",
   "language": "python",
   "name": "python3"
  },
  "language_info": {
   "codemirror_mode": {
    "name": "ipython",
    "version": 3
   },
   "file_extension": ".py",
   "mimetype": "text/x-python",
   "name": "python",
   "nbconvert_exporter": "python",
   "pygments_lexer": "ipython3",
   "version": "3.7.4"
  }
 },
 "nbformat": 4,
 "nbformat_minor": 2
}
