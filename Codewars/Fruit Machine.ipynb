{
 "cells": [
  {
   "cell_type": "markdown",
   "metadata": {},
   "source": [
    "You will be given three reels of different images and told at which index the reels stop. From this information your job is to return the score of the resulted reels.\n",
    "\n",
    "1. There are always exactly three reels\n",
    "\n",
    "2. Each reel has 10 different items.\n",
    "\n",
    "3. The three reel inputs may be different.\n",
    "\n",
    "4. The spin array represents the index of where the reels finish.\n",
    "\n",
    "5. The three spin inputs may be different\n",
    "\n",
    "6. Three of the same is worth more than two of the same\n",
    "\n",
    "7. Two of the same plus one \"Wild\" is double the score.\n",
    "\n",
    "8. No matching items returns 0.\n",
    "\n",
    "\n"
   ]
  },
  {
   "cell_type": "code",
   "execution_count": 42,
   "metadata": {},
   "outputs": [],
   "source": [
    "reel = [[\"Wild\",\"Star\",\"Bell\",\"Shell\",\"Seven\",\"Cherry\",\"Bar\",\"King\",\"Queen\",\"Jack\"], [\"Wild\",\"Bell\",\"Star\",\"Shell\",\"Seven\",\"Cherry\",\"Bar\",\"King\",\"Queen\",\"Jack\"],[\"Wild\",\"Star\",\"Bell\",\"Shell\",\"Seven\",\"Cherry\",\"Bar\",\"King\",\"Queen\",\"Jack\"]]\n",
    "spin = [1,1,1]"
   ]
  },
  {
   "cell_type": "code",
   "execution_count": 34,
   "metadata": {},
   "outputs": [],
   "source": [
    "def fruit(reel,spins):\n",
    "    spin_results = [reel[0][spin[0]],reel[1][spin[1]],reel[2][spin[2]]]\n",
    "    score_dict = {\"Wild\": [100,10], \"Star\":[90,9,18],\"Bell\":[80,8,16],\"Shell\":[70,7,14],\"Seven\":[60,6,12],\"Cherry\":[50,5,10],\"Bar\":[40,4,8],\n",
    "                 \"King\":[30,3,6],\"Queen\":[20,2,4],\"Jack\":[10,1,2]}\n",
    "    score = 0\n",
    "    for result in spin_results:\n",
    "        if spin_results.count(result) == 3: \n",
    "            score = score_dict[result][0]\n",
    "        elif spin_results.count(result) == 2 and result != \"Wild\" and \"Wild\" in spin_results:\n",
    "            score = score_dict[result][2]\n",
    "        elif spin_results.count(result) == 2: \n",
    "            score = score_dict[result][1]\n",
    "    return score\n",
    "\n",
    "            "
   ]
  },
  {
   "cell_type": "code",
   "execution_count": null,
   "metadata": {},
   "outputs": [],
   "source": []
  }
 ],
 "metadata": {
  "kernelspec": {
   "display_name": "Python 3",
   "language": "python",
   "name": "python3"
  },
  "language_info": {
   "codemirror_mode": {
    "name": "ipython",
    "version": 3
   },
   "file_extension": ".py",
   "mimetype": "text/x-python",
   "name": "python",
   "nbconvert_exporter": "python",
   "pygments_lexer": "ipython3",
   "version": "3.7.4"
  }
 },
 "nbformat": 4,
 "nbformat_minor": 2
}
