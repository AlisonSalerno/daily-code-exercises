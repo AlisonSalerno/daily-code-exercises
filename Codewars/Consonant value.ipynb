{
 "cells": [
  {
   "cell_type": "markdown",
   "metadata": {},
   "source": [
    "Given a lowercase string that has alphabetic characters only and no spaces, return the highest value of consonant substrings. Consonants are any letters of the alphabet except \"aeiou\".\n",
    "\n",
    "We shall assign the following values: a = 1, b = 2, c = 3, .... z = 26.\n",
    "\n",
    "For example, for the word \"zodiacs\", let's cross out the vowels. We get: \"z o d ia cs\""
   ]
  },
  {
   "cell_type": "code",
   "execution_count": 3,
   "metadata": {},
   "outputs": [
    {
     "data": {
      "text/plain": [
       "26"
      ]
     },
     "execution_count": 3,
     "metadata": {},
     "output_type": "execute_result"
    }
   ],
   "source": [
    "test = 'zodiac'\n",
    "alphabet = 'abcdefghijklmnopqrstuvqxyz'\n",
    "\n",
    "len(alphabet)"
   ]
  },
  {
   "cell_type": "code",
   "execution_count": 6,
   "metadata": {},
   "outputs": [],
   "source": [
    "def solve(s):\n",
    "    alphabet = 'abcdefghijklmnopqrstuvwxyz'\n",
    "    sums = []\n",
    "    count = 0\n",
    "    for x in s:\n",
    "        if x in 'aeiou':\n",
    "            sums.append(count)\n",
    "            count = 0\n",
    "        elif x not in 'aeiou':\n",
    "            count += alphabet.index(x)+1\n",
    "    return max(sums)"
   ]
  },
  {
   "cell_type": "code",
   "execution_count": 5,
   "metadata": {},
   "outputs": [
    {
     "data": {
      "text/plain": [
       "26"
      ]
     },
     "execution_count": 5,
     "metadata": {},
     "output_type": "execute_result"
    }
   ],
   "source": [
    "solve(test)"
   ]
  },
  {
   "cell_type": "code",
   "execution_count": null,
   "metadata": {},
   "outputs": [],
   "source": []
  }
 ],
 "metadata": {
  "kernelspec": {
   "display_name": "Python 3",
   "language": "python",
   "name": "python3"
  },
  "language_info": {
   "codemirror_mode": {
    "name": "ipython",
    "version": 3
   },
   "file_extension": ".py",
   "mimetype": "text/x-python",
   "name": "python",
   "nbconvert_exporter": "python",
   "pygments_lexer": "ipython3",
   "version": "3.7.4"
  }
 },
 "nbformat": 4,
 "nbformat_minor": 2
}
