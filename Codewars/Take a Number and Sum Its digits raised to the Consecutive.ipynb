{
 "cells": [
  {
   "cell_type": "markdown",
   "metadata": {},
   "source": [
    "The number 89 is the first integer with more than one digit that fulfills the property partially introduced in the title of this kata. What's the use of saying \"Eureka\"? Because this sum gives the same number.\n",
    "\n",
    "In effect: 89 = 8^1 + 9^2\n",
    "\n",
    "The next number in having this property is 135.\n",
    "\n",
    "See this property again: 135 = 1^1 + 3^2 + 5^3\n",
    "\n",
    "We need a function to collect these numbers, that may receive two integers a, b that defines the range [a, b] (inclusive) and outputs a list of the sorted numbers in the range that fulfills the property described above.\n",
    "\n",
    "Let's see some cases:\n",
    "\n",
    "sum_dig_pow(1, 10) == [1, 2, 3, 4, 5, 6, 7, 8, 9]\n",
    "\n",
    "sum_dig_pow(1, 100) == [1, 2, 3, 4, 5, 6, 7, 8, 9, 89]\n",
    "If there are no numbers of this kind in the range [a, b] the function should output an empty list."
   ]
  },
  {
   "cell_type": "code",
   "execution_count": 1,
   "metadata": {},
   "outputs": [],
   "source": [
    "a = 1 \n",
    "b = 10\n",
    "c = 100"
   ]
  },
  {
   "cell_type": "code",
   "execution_count": 63,
   "metadata": {},
   "outputs": [],
   "source": [
    "def sum_dig_pow(a,b):\n",
    "    result = []\n",
    "    for x in range(a,b+1):\n",
    "        if x < 10: \n",
    "            result.append(x)\n",
    "        if x > 10:\n",
    "            if x == sum([pair[1]**pair[0] for pair in enumerate([int(x) for x in str(x)],1)]):\n",
    "                result.append(x)\n",
    "                    \n",
    "    return result\n",
    "            \n",
    "    "
   ]
  },
  {
   "cell_type": "code",
   "execution_count": 64,
   "metadata": {},
   "outputs": [
    {
     "data": {
      "text/plain": [
       "[1, 2, 3, 4, 5, 6, 7, 8, 9, 89]"
      ]
     },
     "execution_count": 64,
     "metadata": {},
     "output_type": "execute_result"
    }
   ],
   "source": [
    "sum_dig_pow(a,c)"
   ]
  },
  {
   "cell_type": "code",
   "execution_count": null,
   "metadata": {},
   "outputs": [],
   "source": []
  }
 ],
 "metadata": {
  "kernelspec": {
   "display_name": "Python 3",
   "language": "python",
   "name": "python3"
  },
  "language_info": {
   "codemirror_mode": {
    "name": "ipython",
    "version": 3
   },
   "file_extension": ".py",
   "mimetype": "text/x-python",
   "name": "python",
   "nbconvert_exporter": "python",
   "pygments_lexer": "ipython3",
   "version": "3.7.4"
  }
 },
 "nbformat": 4,
 "nbformat_minor": 2
}
