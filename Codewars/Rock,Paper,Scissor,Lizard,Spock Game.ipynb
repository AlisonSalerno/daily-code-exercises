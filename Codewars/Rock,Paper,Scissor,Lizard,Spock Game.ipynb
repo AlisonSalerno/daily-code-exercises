{
 "cells": [
  {
   "cell_type": "markdown",
   "metadata": {},
   "source": [
    "To increase the odds of the old fashioned game (Rock, Paper, Scissors) Sam Kass and Karen Bryla reinvented the game with 5 different items instead of 3: Rock, Paper, Scissor, Lizard, Spock. It was later also featured in the sitcom \"The Big Bang Theory\"."
   ]
  },
  {
   "cell_type": "code",
   "execution_count": 12,
   "metadata": {},
   "outputs": [],
   "source": [
    "p1 = \"Spock\"\n",
    "p2 = \"Rock\""
   ]
  },
  {
   "cell_type": "code",
   "execution_count": 21,
   "metadata": {},
   "outputs": [],
   "source": [
    "def result(p1,p2):\n",
    "    items = ['rock','paper','scissor','lizard','spock']\n",
    "    if p1.lower() not in items or p2.lower() not in items:\n",
    "        return \"Oh, Unknown Thing\"\n",
    "    if p1.lower() == p2.lower():\n",
    "        return \"Draw!\"\n",
    "    if p1.lower() == 'rock' or p2.lower() == 'rock':\n",
    "        if p1.lower() in ['scissor','lizard']:\n",
    "            return \"Player 2 won!\"\n",
    "        elif p2.lower() in ['scissor','lizard']:\n",
    "            return \"Player 1 won!\"\n",
    "    if p1.lower() == 'spock' or p2.lower() == 'spock':\n",
    "        if p1.lower() in ['scissor','rock']:\n",
    "            return \"Player 2 won!\"\n",
    "        if p2.lower() in ['scissor','rock']:\n",
    "            return \"Player 1 won!\"\n",
    "    if p1.lower() == 'paper' or p2.lower() == 'paper':\n",
    "        if p1.lower() in ['spock','rock']:\n",
    "            return \"Player 2 won!\"\n",
    "        if p2.lower() in ['spock','rock']:\n",
    "            return \"Player 1 won!\"\n",
    "    if p1.lower() == 'lizard' or p2.lower() == 'lizard':\n",
    "        if p1.lower() in ['paper','spock']:\n",
    "            return \"Player 2 won!\"\n",
    "        if p2.lower() in ['paper','spock']:\n",
    "            return \"Player 1 won!\"\n",
    "    if p1.lower() == 'scissor' or p2.lower() == 'scissor':\n",
    "        if p1.lower() in ['paper','lizard']:\n",
    "            return \"Player 2 won!\"\n",
    "        if p2.lower() in ['paper','lizard']:\n",
    "            return \"Player 1 won!\"\n",
    "    "
   ]
  },
  {
   "cell_type": "code",
   "execution_count": 20,
   "metadata": {},
   "outputs": [
    {
     "data": {
      "text/plain": [
       "'Player 1 won!'"
      ]
     },
     "execution_count": 20,
     "metadata": {},
     "output_type": "execute_result"
    }
   ],
   "source": [
    "result(p1,p2)"
   ]
  },
  {
   "cell_type": "code",
   "execution_count": 22,
   "metadata": {},
   "outputs": [],
   "source": [
    "def result(p1, p2):\n",
    "    rule_list = {'spock':'scissor rock','scissor':'paper lizard','paper':'rock spock','rock':'scissor lizard','lizard':'spock paper'}\n",
    "    if p1.lower() not in rule_list or p2.lower() not in rule_list:\n",
    "        return \"Oh, Unknown Thing\"\n",
    "    elif p1.lower() == p2.lower():\n",
    "        return 'Draw!'\n",
    "    return \"Player 1 won!\" if p2.lower() in rule_list[p1.lower()] else \"Player 2 won!\""
   ]
  },
  {
   "cell_type": "code",
   "execution_count": 23,
   "metadata": {},
   "outputs": [
    {
     "data": {
      "text/plain": [
       "'Player 1 won!'"
      ]
     },
     "execution_count": 23,
     "metadata": {},
     "output_type": "execute_result"
    }
   ],
   "source": [
    "result(p1,p2)"
   ]
  },
  {
   "cell_type": "code",
   "execution_count": null,
   "metadata": {},
   "outputs": [],
   "source": []
  }
 ],
 "metadata": {
  "kernelspec": {
   "display_name": "Python 3",
   "language": "python",
   "name": "python3"
  },
  "language_info": {
   "codemirror_mode": {
    "name": "ipython",
    "version": 3
   },
   "file_extension": ".py",
   "mimetype": "text/x-python",
   "name": "python",
   "nbconvert_exporter": "python",
   "pygments_lexer": "ipython3",
   "version": "3.7.4"
  }
 },
 "nbformat": 4,
 "nbformat_minor": 2
}
