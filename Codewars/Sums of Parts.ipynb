{
 "cells": [
  {
   "cell_type": "markdown",
   "metadata": {},
   "source": [
    "Let us consider this example (array written in general format):\n",
    "\n",
    "ls = [0, 1, 3, 6, 10]\n",
    "\n",
    "Its following parts:\n",
    "\n",
    "ls = [0, 1, 3, 6, 10]\n",
    "ls = [1, 3, 6, 10]\n",
    "ls = [3, 6, 10]\n",
    "ls = [6, 10]\n",
    "ls = [10]\n",
    "ls = []\n",
    "The corresponding sums are (put together in a list): [20, 20, 19, 16, 10, 0]\n",
    "\n",
    "The function parts_sums (or its variants in other languages) will take as parameter a list ls and return a list of the sums of its parts as defined above."
   ]
  },
  {
   "cell_type": "code",
   "execution_count": 87,
   "metadata": {},
   "outputs": [],
   "source": [
    "test = [0,1,3,6,10]\n"
   ]
  },
  {
   "cell_type": "code",
   "execution_count": 95,
   "metadata": {},
   "outputs": [],
   "source": [
    "#faster to subtract from total versus continuing to sum each new list\n",
    "\n",
    "def parts_sums(ls):\n",
    "    total = sum(ls)\n",
    "    sums = [total]\n",
    "    for x in range(0,len(ls)):\n",
    "        sums.append(sums[x]-ls[x])\n",
    "    return sums"
   ]
  },
  {
   "cell_type": "code",
   "execution_count": 96,
   "metadata": {},
   "outputs": [
    {
     "data": {
      "text/plain": [
       "[20, 20, 19, 16, 10, 0]"
      ]
     },
     "execution_count": 96,
     "metadata": {},
     "output_type": "execute_result"
    }
   ],
   "source": [
    "parts_sums(test)"
   ]
  },
  {
   "cell_type": "code",
   "execution_count": null,
   "metadata": {},
   "outputs": [],
   "source": []
  }
 ],
 "metadata": {
  "kernelspec": {
   "display_name": "Python 3",
   "language": "python",
   "name": "python3"
  },
  "language_info": {
   "codemirror_mode": {
    "name": "ipython",
    "version": 3
   },
   "file_extension": ".py",
   "mimetype": "text/x-python",
   "name": "python",
   "nbconvert_exporter": "python",
   "pygments_lexer": "ipython3",
   "version": "3.7.4"
  }
 },
 "nbformat": 4,
 "nbformat_minor": 2
}
