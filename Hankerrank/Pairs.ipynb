{
 "cells": [
  {
   "cell_type": "markdown",
   "metadata": {},
   "source": [
    "Function Description:\n",
    "\n",
    "Complete the pairs function below. It must return an integer representing the number of element pairs having the required difference.\n",
    "\n",
    "pairs has the following parameter(s):\n",
    "\n",
    "- k: an integer, the target difference\n",
    "- arr: an array of integers\n",
    "\n",
    "Input Format\n",
    "\n",
    "The first line contains two space-separated integers  and , the size of  and the target value.\n",
    "The second line contains  space-separated integers of the array ."
   ]
  },
  {
   "cell_type": "code",
   "execution_count": 2,
   "metadata": {},
   "outputs": [],
   "source": [
    "def pairs(k, arr):\n",
    "    numbers = set()\n",
    "    count = 0\n",
    "    for n in arr:\n",
    "        if n + k in numbers:\n",
    "            count += 1\n",
    "        if n - k in numbers:\n",
    "            count += 1\n",
    "        numbers.add(n)\n",
    "    return count"
   ]
  },
  {
   "cell_type": "code",
   "execution_count": null,
   "metadata": {},
   "outputs": [],
   "source": []
  }
 ],
 "metadata": {
  "kernelspec": {
   "display_name": "Python 3",
   "language": "python",
   "name": "python3"
  },
  "language_info": {
   "codemirror_mode": {
    "name": "ipython",
    "version": 3
   },
   "file_extension": ".py",
   "mimetype": "text/x-python",
   "name": "python",
   "nbconvert_exporter": "python",
   "pygments_lexer": "ipython3",
   "version": "3.7.4"
  }
 },
 "nbformat": 4,
 "nbformat_minor": 2
}
