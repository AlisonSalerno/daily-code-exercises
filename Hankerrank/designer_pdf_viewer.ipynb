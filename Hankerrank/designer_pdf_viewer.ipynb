{
 "cells": [
  {
   "cell_type": "markdown",
   "metadata": {},
   "source": [
    "#### Function Description\n",
    "\n",
    "Complete the designerPdfViewer function in the editor below.\n",
    "\n",
    "designerPdfViewer has the following parameter(s):\n",
    "\n",
    "int h[26]: the heights of each letter\n",
    "string word: a string\n",
    "\n",
    "#### Returns\n",
    "\n",
    "int: the size of the highlighted area"
   ]
  },
  {
   "cell_type": "code",
   "execution_count": 17,
   "metadata": {},
   "outputs": [],
   "source": [
    "def designerPdfViewer(h, word):\n",
    "    alphabet=\"abcdefghijklmnopqrstuvwxyz\"\n",
    "    letter_heights = []\n",
    "    for letter in list(word):\n",
    "        letter_heights.append(h[alphabet.index(letter)])\n",
    "    return int(max(letter_heights)) * int(len(letter_heights))"
   ]
  },
  {
   "cell_type": "code",
   "execution_count": null,
   "metadata": {},
   "outputs": [],
   "source": []
  }
 ],
 "metadata": {
  "kernelspec": {
   "display_name": "Python 3",
   "language": "python",
   "name": "python3"
  },
  "language_info": {
   "codemirror_mode": {
    "name": "ipython",
    "version": 3
   },
   "file_extension": ".py",
   "mimetype": "text/x-python",
   "name": "python",
   "nbconvert_exporter": "python",
   "pygments_lexer": "ipython3",
   "version": "3.7.4"
  }
 },
 "nbformat": 4,
 "nbformat_minor": 2
}
