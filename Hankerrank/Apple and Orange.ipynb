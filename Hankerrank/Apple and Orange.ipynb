{
 "cells": [
  {
   "cell_type": "markdown",
   "metadata": {},
   "source": [
    "#### Function Description\n",
    "\n",
    "Complete the countApplesAndOranges function in the editor below. It should print the number of apples and oranges that land on Sam's house, each on a separate line.\n",
    "\n",
    "countApplesAndOranges has the following parameter(s):\n",
    "\n",
    "- s: integer, starting point of Sam's house location.\n",
    "- t: integer, ending location of Sam's house location.\n",
    "- a: integer, location of the Apple tree.\n",
    "- b: integer, location of the Orange tree.\n",
    "- apples: integer array, distances at which each apple falls from the tree.\n",
    "- oranges: integer array, distances at which each orange falls from the tree.\n",
    "\n",
    "#### Output Format\n",
    "\n",
    "Print two integers on two different lines:\n",
    "\n",
    "The first integer: the number of apples that fall on Sam's house.\n",
    "The second integer: the number of oranges that fall on Sam's house."
   ]
  },
  {
   "cell_type": "code",
   "execution_count": 2,
   "metadata": {},
   "outputs": [],
   "source": [
    "s = 7\n",
    "t = 11\n",
    "a = 5\n",
    "b = 15\n",
    "#if negative falls to left\n",
    "apples = [-2,2,1] # to left of house\n",
    "oranges = [5,-6] # to right of house"
   ]
  },
  {
   "cell_type": "code",
   "execution_count": 18,
   "metadata": {},
   "outputs": [],
   "source": [
    "#reaches time limit, optimized solution below\n",
    "\n",
    "# def countApplesAndOranges(s, t, a, b, apples, oranges):\n",
    "#     house_range = list(range(s,t+1))\n",
    "#     apple_count = 0\n",
    "#     orange_count = 0 \n",
    "#     for apple in apples:\n",
    "#         if apple > 0 and (apple + a) in house_range: \n",
    "#             apple_count += 1\n",
    "#     for orange in oranges:\n",
    "#         if orange < 0 and (b + orange) in house_range:\n",
    "#             orange_count += 1\n",
    "#     print (apple_count) \n",
    "#     print (orange_count)"
   ]
  },
  {
   "cell_type": "code",
   "execution_count": 8,
   "metadata": {},
   "outputs": [],
   "source": [
    "house_range = list(range(s,t+1))"
   ]
  },
  {
   "cell_type": "code",
   "execution_count": 19,
   "metadata": {},
   "outputs": [
    {
     "name": "stdout",
     "output_type": "stream",
     "text": [
      "1\n",
      "1\n"
     ]
    }
   ],
   "source": [
    "countApplesAndOranges(s,t,a,b,apples,oranges)"
   ]
  },
  {
   "cell_type": "code",
   "execution_count": 20,
   "metadata": {},
   "outputs": [],
   "source": [
    "#does not check within house range but against s and t in one conditional\n",
    "def countApplesAndOranges(s, t, a, b, apples, oranges):\n",
    "    apple_count = 0\n",
    "    orange_count = 0 \n",
    "    for apple in apples:\n",
    "        if (apple + a) >= s and (apple + a) <= t: \n",
    "            apple_count += 1\n",
    "    for orange in oranges:\n",
    "        if (b + orange) >= s and (orange + b) <= t:\n",
    "            orange_count += 1\n",
    "    print (apple_count) \n",
    "    print (orange_count)\n",
    "    "
   ]
  },
  {
   "cell_type": "code",
   "execution_count": 21,
   "metadata": {},
   "outputs": [
    {
     "name": "stdout",
     "output_type": "stream",
     "text": [
      "1\n",
      "1\n"
     ]
    }
   ],
   "source": [
    "countApplesAndOranges(s, t, a, b, apples, oranges)"
   ]
  },
  {
   "cell_type": "code",
   "execution_count": null,
   "metadata": {},
   "outputs": [],
   "source": []
  }
 ],
 "metadata": {
  "kernelspec": {
   "display_name": "Python 3",
   "language": "python",
   "name": "python3"
  },
  "language_info": {
   "codemirror_mode": {
    "name": "ipython",
    "version": 3
   },
   "file_extension": ".py",
   "mimetype": "text/x-python",
   "name": "python",
   "nbconvert_exporter": "python",
   "pygments_lexer": "ipython3",
   "version": "3.7.4"
  }
 },
 "nbformat": 4,
 "nbformat_minor": 2
}
