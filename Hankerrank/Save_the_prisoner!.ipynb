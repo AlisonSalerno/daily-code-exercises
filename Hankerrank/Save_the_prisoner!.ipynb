{
 "cells": [
  {
   "cell_type": "markdown",
   "metadata": {},
   "source": [
    "A jail has a number of prisoners and a number of treats to pass out to them. Their jailer decides the fairest way to divide the treats is to seat the prisoners around a circular table in sequentially numbered chairs. A chair number will be drawn from a hat. Beginning with the prisoner in that chair, one candy will be handed to each prisoner sequentially around the table until all have been distributed.\n",
    "\n",
    "The jailer is playing a little joke, though. The last piece of candy looks like all the others, but it tastes awful. Determine the chair number occupied by the prisoner who will receive that candy.\n",
    "\n",
    "For example, there are 4 prisoners and 6 pieces of candy. The prisoners arrange themselves in seats numbered 1  to 4 . Let's suppose two is drawn from the hat. Prisoners receive candy at positions 2,3,4,1,2,3. The prisoner to be warned sits in chair number 3.\n",
    "\n",
    "#### Function Description\n",
    "\n",
    "Complete the saveThePrisoner function in the editor below. It should return an integer representing the chair number of the prisoner to warn.\n",
    "\n",
    "saveThePrisoner has the following parameter(s):\n",
    "\n",
    "n: an integer, the number of prisoners\n",
    "m: an integer, the number of sweets\n",
    "s: an integer, the chair number to begin passing out sweets from\n",
    "\n",
    "#### Output Format\n",
    "\n",
    "For each test case, print the chair number of the prisoner who receives the awful treat on a new line.\n",
    "\n"
   ]
  },
  {
   "cell_type": "code",
   "execution_count": 29,
   "metadata": {},
   "outputs": [],
   "source": [
    "n = 5\n",
    "m = 2\n",
    "s = 1"
   ]
  },
  {
   "cell_type": "code",
   "execution_count": 39,
   "metadata": {},
   "outputs": [],
   "source": [
    "def saveThePrisoner(n, m, s):\n",
    "    return (m+s-1)%n if (m+s-1)%n != 0 else n\n",
    "        "
   ]
  },
  {
   "cell_type": "code",
   "execution_count": 42,
   "metadata": {},
   "outputs": [
    {
     "data": {
      "text/plain": [
       "2"
      ]
     },
     "execution_count": 42,
     "metadata": {},
     "output_type": "execute_result"
    }
   ],
   "source": [
    "saveThePrisoner(n,m,s)"
   ]
  },
  {
   "cell_type": "code",
   "execution_count": null,
   "metadata": {},
   "outputs": [],
   "source": []
  }
 ],
 "metadata": {
  "kernelspec": {
   "display_name": "Python 3",
   "language": "python",
   "name": "python3"
  },
  "language_info": {
   "codemirror_mode": {
    "name": "ipython",
    "version": 3
   },
   "file_extension": ".py",
   "mimetype": "text/x-python",
   "name": "python",
   "nbconvert_exporter": "python",
   "pygments_lexer": "ipython3",
   "version": "3.7.4"
  }
 },
 "nbformat": 4,
 "nbformat_minor": 2
}
