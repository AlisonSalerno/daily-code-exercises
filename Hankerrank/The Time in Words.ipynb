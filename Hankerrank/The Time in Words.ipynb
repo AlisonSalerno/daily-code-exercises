{
 "cells": [
  {
   "cell_type": "markdown",
   "metadata": {},
   "source": [
    "At minutes = 0 , use o' clock. For minutes <= 30, use past, and for minutes > 30 use to. Note the space between the apostrophe and clock in o' clock. Write a program which prints the time in words for the input given in the format described."
   ]
  },
  {
   "cell_type": "markdown",
   "metadata": {},
   "source": [
    "### Function Description\n",
    "\n",
    "Complete the timeInWords function in the editor below. It should return a time string as described.\n",
    "\n",
    "timeInWords has the following parameter(s):\n",
    "\n",
    "h: an integer representing hour of the day\n",
    "m: an integer representing minutes after the hour\n",
    "\n",
    "#### Input Format\n",
    "\n",
    "The first line contains , the hours portion The second line contains , the minutes portion"
   ]
  },
  {
   "cell_type": "code",
   "execution_count": 3,
   "metadata": {},
   "outputs": [],
   "source": [
    "numbers = [\"zero\", \n",
    "        \"one\",\n",
    "        \"two\",\n",
    "        \"three\",\n",
    "        \"four\",\n",
    "        \"five\",\n",
    "        \"six\",\n",
    "        \"seven\",\n",
    "        \"eight\",\n",
    "        \"nine\",\n",
    "        \"ten\",\n",
    "        \"eleven\",\n",
    "        \"twelve\",\n",
    "        \"thirteen\",\n",
    "        \"fourteen\",\n",
    "        \"fifteen\",\n",
    "        \"sixteen\",\n",
    "        \"seventeen\",\n",
    "        \"eighteen\",\n",
    "        \"nineteen\",\n",
    "        \"twenty\",\n",
    "        \"twenty one\",\n",
    "        \"twenty two\",\n",
    "        \"twenty three\",\n",
    "        \"twenty four\",\n",
    "        \"twenty five\",\n",
    "        \"twenty six\",\n",
    "        \"twenty seven\",\n",
    "        \"twenty eight\",\n",
    "        \"twenty nine\" ]"
   ]
  },
  {
   "cell_type": "code",
   "execution_count": 4,
   "metadata": {},
   "outputs": [
    {
     "data": {
      "text/plain": [
       "'zero'"
      ]
     },
     "execution_count": 4,
     "metadata": {},
     "output_type": "execute_result"
    }
   ],
   "source": [
    "numbers[0]"
   ]
  },
  {
   "cell_type": "code",
   "execution_count": 18,
   "metadata": {},
   "outputs": [],
   "source": [
    "def timeInWords(h, m):\n",
    "    numbers = [\"zero\", \"one\",\"two\",\"three\",\"four\",\n",
    "        \"five\",\"six\",\"seven\",\"eight\",\"nine\",\"ten\",\n",
    "        \"eleven\",\"twelve\",\"thirteen\",\"fourteen\",\"fifteen\",\n",
    "        \"sixteen\",\"seventeen\",\"eighteen\",\"nineteen\",\"twenty\",\n",
    "        \"twenty one\",\"twenty two\",\"twenty three\",\"twenty four\",\n",
    "        \"twenty five\",\"twenty six\",\"twenty seven\",\"twenty eight\",\n",
    "        \"twenty nine\" ]\n",
    "    if m == 0:\n",
    "        return \"{} o' clock\".format(numbers[h])\n",
    "    elif m < 30 and m != 15:\n",
    "        return \"{} {} past {}\".format(numbers[m],\"minutes\" if m > 1 else \"minute\",numbers[h])\n",
    "    elif m == 30:\n",
    "        return \"half past {}\".format(numbers[h])\n",
    "    elif m == 15 and m < 30:\n",
    "        return \"quarter past {}\".format(numbers[h])\n",
    "    elif m > 30 and m != 45:\n",
    "        return \"{} minutes to {}\".format(numbers[60-m],numbers[h+1])\n",
    "    else: \n",
    "        return \"quarter to {}\".format(numbers[h+1])\n",
    "        \n",
    "    "
   ]
  },
  {
   "cell_type": "code",
   "execution_count": 19,
   "metadata": {},
   "outputs": [
    {
     "data": {
      "text/plain": [
       "'one minute past seven'"
      ]
     },
     "execution_count": 19,
     "metadata": {},
     "output_type": "execute_result"
    }
   ],
   "source": [
    "timeInWords(7,1)"
   ]
  },
  {
   "cell_type": "code",
   "execution_count": null,
   "metadata": {},
   "outputs": [],
   "source": []
  }
 ],
 "metadata": {
  "kernelspec": {
   "display_name": "Python 3",
   "language": "python",
   "name": "python3"
  },
  "language_info": {
   "codemirror_mode": {
    "name": "ipython",
    "version": 3
   },
   "file_extension": ".py",
   "mimetype": "text/x-python",
   "name": "python",
   "nbconvert_exporter": "python",
   "pygments_lexer": "ipython3",
   "version": "3.7.4"
  }
 },
 "nbformat": 4,
 "nbformat_minor": 2
}
