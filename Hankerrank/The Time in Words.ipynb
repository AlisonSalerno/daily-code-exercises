{
 "cells": [
  {
   "cell_type": "code",
   "execution_count": null,
   "metadata": {},
   "outputs": [],
   "source": []
  },
  {
   "cell_type": "code",
   "execution_count": 3,
   "metadata": {},
   "outputs": [],
   "source": [
    "numbers = [\"zero\", \n",
    "        \"one\",\n",
    "        \"two\",\n",
    "        \"three\",\n",
    "        \"four\",\n",
    "        \"five\",\n",
    "        \"six\",\n",
    "        \"seven\",\n",
    "        \"eight\",\n",
    "        \"nine\",\n",
    "        \"ten\",\n",
    "        \"eleven\",\n",
    "        \"twelve\",\n",
    "        \"thirteen\",\n",
    "        \"fourteen\",\n",
    "        \"fifteen\",\n",
    "        \"sixteen\",\n",
    "        \"seventeen\",\n",
    "        \"eighteen\",\n",
    "        \"nineteen\",\n",
    "        \"twenty\",\n",
    "        \"twenty one\",\n",
    "        \"twenty two\",\n",
    "        \"twenty three\",\n",
    "        \"twenty four\",\n",
    "        \"twenty five\",\n",
    "        \"twenty six\",\n",
    "        \"twenty seven\",\n",
    "        \"twenty eight\",\n",
    "        \"twenty nine\" ]"
   ]
  },
  {
   "cell_type": "code",
   "execution_count": 4,
   "metadata": {},
   "outputs": [
    {
     "data": {
      "text/plain": [
       "'zero'"
      ]
     },
     "execution_count": 4,
     "metadata": {},
     "output_type": "execute_result"
    }
   ],
   "source": [
    "numbers[0]"
   ]
  },
  {
   "cell_type": "code",
   "execution_count": null,
   "metadata": {},
   "outputs": [],
   "source": []
  }
 ],
 "metadata": {
  "kernelspec": {
   "display_name": "Python 3",
   "language": "python",
   "name": "python3"
  },
  "language_info": {
   "codemirror_mode": {
    "name": "ipython",
    "version": 3
   },
   "file_extension": ".py",
   "mimetype": "text/x-python",
   "name": "python",
   "nbconvert_exporter": "python",
   "pygments_lexer": "ipython3",
   "version": "3.7.4"
  }
 },
 "nbformat": 4,
 "nbformat_minor": 2
}
