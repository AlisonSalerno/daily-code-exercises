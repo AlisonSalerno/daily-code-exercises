{
 "cells": [
  {
   "cell_type": "markdown",
   "metadata": {},
   "source": [
    "#### Complete the getMoneySpent function in the editor below.\n",
    "\n",
    "getMoneySpent has the following parameter(s):\n",
    "\n",
    "- int keyboards[n]: the keyboard prices\n",
    "- int drives[m]: the drive prices\n",
    "- int b: the budget\n",
    "\n",
    "#### Returns\n",
    "\n",
    "int: the maximum that can be spent, or -1  if it is not possible to buy both items"
   ]
  },
  {
   "cell_type": "code",
   "execution_count": 2,
   "metadata": {},
   "outputs": [],
   "source": [
    "b = 10\n",
    "keyboards = [3,1]\n",
    "drives = [5,2,8]"
   ]
  },
  {
   "cell_type": "code",
   "execution_count": 9,
   "metadata": {},
   "outputs": [],
   "source": [
    "def getMoneySpent(keyboards,drives,b):\n",
    "    cost = -1\n",
    "    items_purchased = []\n",
    "    for keyboard in keyboards: \n",
    "        for drive in drives:\n",
    "            if keyboard + drive > cost and keyboard + drive <= b:\n",
    "                cost = keyboard + drive\n",
    "\n",
    "    return cost\n",
    "            "
   ]
  },
  {
   "cell_type": "code",
   "execution_count": 10,
   "metadata": {},
   "outputs": [
    {
     "data": {
      "text/plain": [
       "9"
      ]
     },
     "execution_count": 10,
     "metadata": {},
     "output_type": "execute_result"
    }
   ],
   "source": [
    "getMoneySpent(keyboards,drives,b)"
   ]
  },
  {
   "cell_type": "code",
   "execution_count": null,
   "metadata": {},
   "outputs": [],
   "source": []
  }
 ],
 "metadata": {
  "kernelspec": {
   "display_name": "Python 3",
   "language": "python",
   "name": "python3"
  },
  "language_info": {
   "codemirror_mode": {
    "name": "ipython",
    "version": 3
   },
   "file_extension": ".py",
   "mimetype": "text/x-python",
   "name": "python",
   "nbconvert_exporter": "python",
   "pygments_lexer": "ipython3",
   "version": "3.7.4"
  }
 },
 "nbformat": 4,
 "nbformat_minor": 2
}
