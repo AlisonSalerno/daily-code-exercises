{
 "cells": [
  {
   "cell_type": "markdown",
   "metadata": {},
   "source": [
    "Emma is playing a new mobile game that starts with consecutively numbered clouds. Some of the clouds are thunderheads and others are cumulus. She can jump on any cumulus cloud having a number that is equal to the number of the current cloud plus 1  or 2 . She must avoid the thunderheads. Determine the minimum number of jumps it will take Emma to jump from her starting postion to the last cloud. It is always possible to win the game.\n",
    "\n",
    "For each game, Emma will get an array of clouds numbered  if they are safe or  if they must be avoided. For example, c = [0,1,0,0,0,1,0] indexed from 0...6. The number on each cloud is its index in the list so she must avoid the clouds at indexes 1 and 5. She could follow the following two paths:  0-2-4-6 or 0-2-3-4-6 . The first path takes 3jumps while the second takes 4 .\n",
    "\n",
    "### Function Description\n",
    "\n",
    "Complete the jumpingOnClouds function in the editor below. It should return the minimum number of jumps required, as an integer.\n",
    "\n",
    "jumpingOnClouds has the following parameter(s):\n",
    "\n",
    "c: an array of binary integers"
   ]
  },
  {
   "cell_type": "code",
   "execution_count": 78,
   "metadata": {},
   "outputs": [],
   "source": [
    "n = 7\n",
    "c = [0,0,0,0,1,0]"
   ]
  },
  {
   "cell_type": "code",
   "execution_count": 92,
   "metadata": {},
   "outputs": [],
   "source": [
    "def jumpingOnClouds(c):\n",
    "    jumps = 0\n",
    "    position = 0 \n",
    "    while position < len(c)-2:\n",
    "        if c[position + 2] != 1:\n",
    "            position += 2\n",
    "            jumps += 1\n",
    "        else: \n",
    "            position += 1\n",
    "            jumps += 1\n",
    "    if position == len(c)-2:\n",
    "        jumps += 1\n",
    "    return jumps\n",
    "            \n",
    "        \n",
    " "
   ]
  },
  {
   "cell_type": "code",
   "execution_count": 93,
   "metadata": {},
   "outputs": [
    {
     "data": {
      "text/plain": [
       "3"
      ]
     },
     "execution_count": 93,
     "metadata": {},
     "output_type": "execute_result"
    }
   ],
   "source": [
    "jumpingOnClouds(c)"
   ]
  },
  {
   "cell_type": "code",
   "execution_count": null,
   "metadata": {},
   "outputs": [],
   "source": []
  }
 ],
 "metadata": {
  "kernelspec": {
   "display_name": "Python 3",
   "language": "python",
   "name": "python3"
  },
  "language_info": {
   "codemirror_mode": {
    "name": "ipython",
    "version": 3
   },
   "file_extension": ".py",
   "mimetype": "text/x-python",
   "name": "python",
   "nbconvert_exporter": "python",
   "pygments_lexer": "ipython3",
   "version": "3.7.4"
  }
 },
 "nbformat": 4,
 "nbformat_minor": 2
}
