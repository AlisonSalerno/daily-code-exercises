{
 "cells": [
  {
   "cell_type": "markdown",
   "metadata": {},
   "source": [
    "#### Function Description\n",
    "\n",
    "Complete the function kangaroo in the editor below. It should return YES if they reach the same position at the same time, or NO if they don't.\n",
    "\n",
    "kangaroo has the following parameter(s):\n",
    "\n",
    "x1, v1: integers, starting position and jump distance for kangaroo 1\n",
    "x2, v2: integers, starting position and jump distance for kangaroo 2"
   ]
  },
  {
   "cell_type": "code",
   "execution_count": 1,
   "metadata": {},
   "outputs": [],
   "source": [
    "x1 = 0\n",
    "v1 = 3\n",
    "x2 = 4\n",
    "v2 = 2\n",
    "\n",
    "#(y * v1) + x1 = (y * v2) + x2\n",
    "#(x1 - x2) = (y * v2) - (y * v1)\n",
    "#(x1 - x2) = y(v2 - v1)\n",
    "#(x1 - x2) / (v2 - v1) = y"
   ]
  },
  {
   "cell_type": "code",
   "execution_count": 32,
   "metadata": {},
   "outputs": [],
   "source": [
    "def kangaroo(x1, v1, x2, v2):\n",
    "    if v2 <= v1 and x2 < x1: # if a k's jump distance and starting distance are both less than the other, it'll never catch up\n",
    "        return 'NO'\n",
    "    elif v1 <= v2 and x1 < x2:\n",
    "        return 'NO'\n",
    "    elif (x1 - x2) % (v2 - v1) == 0: # no remainder so 'y' is equal\n",
    "        return 'YES'\n",
    "    else: \n",
    "        return 'NO'\n",
    "    "
   ]
  },
  {
   "cell_type": "code",
   "execution_count": 33,
   "metadata": {},
   "outputs": [
    {
     "data": {
      "text/plain": [
       "'YES'"
      ]
     },
     "execution_count": 33,
     "metadata": {},
     "output_type": "execute_result"
    }
   ],
   "source": [
    "kangaroo(x1, v1, x2, v2)"
   ]
  },
  {
   "cell_type": "code",
   "execution_count": null,
   "metadata": {},
   "outputs": [],
   "source": []
  }
 ],
 "metadata": {
  "kernelspec": {
   "display_name": "Python 3",
   "language": "python",
   "name": "python3"
  },
  "language_info": {
   "codemirror_mode": {
    "name": "ipython",
    "version": 3
   },
   "file_extension": ".py",
   "mimetype": "text/x-python",
   "name": "python",
   "nbconvert_exporter": "python",
   "pygments_lexer": "ipython3",
   "version": "3.7.4"
  }
 },
 "nbformat": 4,
 "nbformat_minor": 2
}
