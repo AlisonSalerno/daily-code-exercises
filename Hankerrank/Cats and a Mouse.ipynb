{
 "cells": [
  {
   "cell_type": "markdown",
   "metadata": {},
   "source": [
    "Complete the catAndMouse function in the editor below.\n",
    "\n",
    "catAndMouse has the following parameter(s):\n",
    "\n",
    "int x: Cat 's position\n",
    "int y: Cat 's position\n",
    "int z: Mouse 's position"
   ]
  },
  {
   "cell_type": "code",
   "execution_count": 1,
   "metadata": {},
   "outputs": [],
   "source": [
    "x = 1 # cat a\n",
    "y = 2 # cat b\n",
    "z = 3 # mouse"
   ]
  },
  {
   "cell_type": "code",
   "execution_count": 5,
   "metadata": {},
   "outputs": [],
   "source": [
    "def catAndMouse(x, y, z):\n",
    "    if abs(z-x) < abs(z-y):\n",
    "        return ('Cat A')\n",
    "    elif abs(z-x) > abs(z-y):\n",
    "        return ('Cat B')\n",
    "    else:\n",
    "        return ('Mouse C')"
   ]
  },
  {
   "cell_type": "code",
   "execution_count": 6,
   "metadata": {},
   "outputs": [
    {
     "name": "stdout",
     "output_type": "stream",
     "text": [
      "Cat B\n"
     ]
    }
   ],
   "source": [
    "catAndMouse(x,y,z)"
   ]
  },
  {
   "cell_type": "code",
   "execution_count": null,
   "metadata": {},
   "outputs": [],
   "source": []
  }
 ],
 "metadata": {
  "kernelspec": {
   "display_name": "Python 3",
   "language": "python",
   "name": "python3"
  },
  "language_info": {
   "codemirror_mode": {
    "name": "ipython",
    "version": 3
   },
   "file_extension": ".py",
   "mimetype": "text/x-python",
   "name": "python",
   "nbconvert_exporter": "python",
   "pygments_lexer": "ipython3",
   "version": "3.7.4"
  }
 },
 "nbformat": 4,
 "nbformat_minor": 2
}
