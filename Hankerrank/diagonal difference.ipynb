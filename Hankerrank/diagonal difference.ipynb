{
 "cells": [
  {
   "cell_type": "markdown",
   "metadata": {},
   "source": [
    "Given a square matrix, calculate the absolute difference between the sums of its diagonals.\n",
    "\n",
    "For example, the square matrix  is shown below:\n",
    "\n",
    " - 1 2 3\n",
    " - 4 5 6\n",
    " - 9 8 9  \n",
    "\n",
    "The left-to-right diagonal = 1+5+9=15 . The right to left diagonal = 3+5+9=17 . Their absolute difference is 15-17=2 .\n",
    "\n",
    "Function description\n",
    "\n",
    "Complete the  function in the editor below.\n",
    "\n",
    "diagonalDifference takes the following parameter:\n",
    "\n",
    "int arr[n][m]: an array of integers\n",
    "Return\n",
    "\n",
    "int: the absolute diagonal difference"
   ]
  },
  {
   "cell_type": "code",
   "execution_count": 61,
   "metadata": {},
   "outputs": [],
   "source": [
    "#test case\n",
    "\n",
    "import numpy as np\n",
    "\n",
    "arr = np.array([11, 2, 4\n",
    "                , 4, 5, 6\n",
    "                , 10, 8, -12])"
   ]
  },
  {
   "cell_type": "code",
   "execution_count": 57,
   "metadata": {},
   "outputs": [
    {
     "data": {
      "text/plain": [
       "array([ 11,   2,   4,   4,   5,   6,  10,   8, -12])"
      ]
     },
     "execution_count": 57,
     "metadata": {},
     "output_type": "execute_result"
    }
   ],
   "source": [
    "arr"
   ]
  },
  {
   "cell_type": "code",
   "execution_count": 47,
   "metadata": {},
   "outputs": [],
   "source": [
    "def diagonalDifference(arr):\n",
    "    sum1 = 0\n",
    "    sum2 = 0    \n",
    "    for row in range(n):\n",
    "        sum1 += arr[row][row]\n",
    "        sum2 += arr[row][n - 1 - row]\n",
    "    return abs(sum1 - sum2)"
   ]
  },
  {
   "cell_type": "code",
   "execution_count": 62,
   "metadata": {},
   "outputs": [],
   "source": [
    "arr = arr.reshape(3,3)"
   ]
  },
  {
   "cell_type": "code",
   "execution_count": 63,
   "metadata": {},
   "outputs": [
    {
     "data": {
      "text/plain": [
       "array([[ 11,   2,   4],\n",
       "       [  4,   5,   6],\n",
       "       [ 10,   8, -12]])"
      ]
     },
     "execution_count": 63,
     "metadata": {},
     "output_type": "execute_result"
    }
   ],
   "source": [
    "arr"
   ]
  },
  {
   "cell_type": "code",
   "execution_count": 64,
   "metadata": {},
   "outputs": [
    {
     "data": {
      "text/plain": [
       "4"
      ]
     },
     "execution_count": 64,
     "metadata": {},
     "output_type": "execute_result"
    }
   ],
   "source": [
    "arr[0][2]"
   ]
  },
  {
   "cell_type": "code",
   "execution_count": null,
   "metadata": {},
   "outputs": [],
   "source": []
  }
 ],
 "metadata": {
  "kernelspec": {
   "display_name": "Python 3",
   "language": "python",
   "name": "python3"
  },
  "language_info": {
   "codemirror_mode": {
    "name": "ipython",
    "version": 3
   },
   "file_extension": ".py",
   "mimetype": "text/x-python",
   "name": "python",
   "nbconvert_exporter": "python",
   "pygments_lexer": "ipython3",
   "version": "3.7.4"
  }
 },
 "nbformat": 4,
 "nbformat_minor": 2
}
