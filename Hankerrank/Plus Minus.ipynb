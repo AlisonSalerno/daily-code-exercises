{
 "cells": [
  {
   "cell_type": "markdown",
   "metadata": {},
   "source": [
    "Given an array of integers, calculate the ratios of its elements that are positive, negative, and zero. Print the decimal value of each fraction on a new line with <B> 6 </B> places after the decimal."
   ]
  },
  {
   "cell_type": "code",
   "execution_count": 1,
   "metadata": {},
   "outputs": [],
   "source": [
    "def plusMinus(arr):\n",
    "    pos_count = 0\n",
    "    neg_count = 0\n",
    "    zero_count = 0\n",
    "    for ele in arr:\n",
    "        if ele > 0:\n",
    "            pos_count +=1\n",
    "        elif ele == 0:\n",
    "            zero_count +=1\n",
    "        else:\n",
    "            neg_count +=1\n",
    "    print (\"{:.6f}\".format(pos_count / len(arr)))\n",
    "    print (\"{:.6f}\".format(neg_count / len(arr)))\n",
    "    print (\"{:.6f}\".format(zero_count / len(arr)))"
   ]
  },
  {
   "cell_type": "code",
   "execution_count": null,
   "metadata": {},
   "outputs": [],
   "source": []
  }
 ],
 "metadata": {
  "kernelspec": {
   "display_name": "Python 3",
   "language": "python",
   "name": "python3"
  },
  "language_info": {
   "codemirror_mode": {
    "name": "ipython",
    "version": 3
   },
   "file_extension": ".py",
   "mimetype": "text/x-python",
   "name": "python",
   "nbconvert_exporter": "python",
   "pygments_lexer": "ipython3",
   "version": "3.7.4"
  }
 },
 "nbformat": 4,
 "nbformat_minor": 2
}
